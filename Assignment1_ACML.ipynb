{
 "cells": [
  {
   "cell_type": "code",
   "execution_count": 3,
   "id": "23373fd9-25fe-4fe7-b352-1a07da5d2894",
   "metadata": {
    "execution": {
     "iopub.execute_input": "2023-04-11T13:39:46.028180Z",
     "iopub.status.busy": "2023-04-11T13:39:46.027165Z",
     "iopub.status.idle": "2023-04-11T13:39:46.036197Z",
     "shell.execute_reply": "2023-04-11T13:39:46.036197Z",
     "shell.execute_reply.started": "2023-04-11T13:39:46.028180Z"
    },
    "tags": []
   },
   "outputs": [],
   "source": [
    "import numpy as np"
   ]
  },
  {
   "cell_type": "markdown",
   "id": "8987797c-1e31-4b33-8270-fe36fde31e3c",
   "metadata": {},
   "source": [
    "#### Neural network with input size of 4 and 6 hidden layers and 3 output size/layers"
   ]
  },
  {
   "cell_type": "code",
   "execution_count": 4,
   "id": "9a84beb6-3d5e-4999-bf69-453a328060be",
   "metadata": {
    "execution": {
     "iopub.execute_input": "2023-04-11T13:39:47.140893Z",
     "iopub.status.busy": "2023-04-11T13:39:47.140893Z",
     "iopub.status.idle": "2023-04-11T13:39:47.158436Z",
     "shell.execute_reply": "2023-04-11T13:39:47.156998Z",
     "shell.execute_reply.started": "2023-04-11T13:39:47.140893Z"
    },
    "tags": []
   },
   "outputs": [],
   "source": [
    "input_layer = 4\n",
    "hidden_layer = 6\n",
    "output_layer = 3"
   ]
  },
  {
   "cell_type": "markdown",
   "id": "9da14bf3-5c5b-4ca0-af75-6ec390ddac02",
   "metadata": {},
   "source": [
    "#####  Initialize wieghts and biases to 1"
   ]
  },
  {
   "cell_type": "code",
   "execution_count": 5,
   "id": "cd5bdc6c-1a18-4b2a-9716-43c5b14e4204",
   "metadata": {
    "execution": {
     "iopub.execute_input": "2023-04-11T13:39:52.419697Z",
     "iopub.status.busy": "2023-04-11T13:39:52.419697Z",
     "iopub.status.idle": "2023-04-11T13:39:52.444085Z",
     "shell.execute_reply": "2023-04-11T13:39:52.444085Z",
     "shell.execute_reply.started": "2023-04-11T13:39:52.419697Z"
    },
    "tags": []
   },
   "outputs": [],
   "source": [
    "weights_1 = np.ones((input_layer, hidden_layer))\n",
    "bias_1 = np.ones((1,hidden_layer))\n",
    "weights_2 = np.ones((hidden_layer, output_layer))\n",
    "bias_2 = np.ones((1, output_layer))"
   ]
  },
  {
   "cell_type": "markdown",
   "id": "e02cbfbd-33ef-4b0a-94b7-e94bbf7c0bef",
   "metadata": {},
   "source": [
    "#### define activation using using sigmoid function\n",
    "$ f(x) = \\frac{1}{1 + \\exp(-x)}$"
   ]
  },
  {
   "cell_type": "code",
   "execution_count": 6,
   "id": "746084f5-e0a0-4415-836b-77a56a080226",
   "metadata": {
    "execution": {
     "iopub.execute_input": "2023-04-11T13:39:53.757214Z",
     "iopub.status.busy": "2023-04-11T13:39:53.757214Z",
     "iopub.status.idle": "2023-04-11T13:39:53.768046Z",
     "shell.execute_reply": "2023-04-11T13:39:53.766541Z",
     "shell.execute_reply.started": "2023-04-11T13:39:53.757214Z"
    },
    "tags": []
   },
   "outputs": [],
   "source": [
    "def sigmoid(x):\n",
    "    return 1/(1+np.exp(-x))"
   ]
  },
  {
   "cell_type": "markdown",
   "id": "f1f2db60-3300-480d-9701-f6cc1e81b5c3",
   "metadata": {},
   "source": [
    "##### def derivative of sigmoid function"
   ]
  },
  {
   "cell_type": "code",
   "execution_count": 7,
   "id": "e44ad3a8-3f96-4e01-89fe-2439b3cd12ea",
   "metadata": {
    "execution": {
     "iopub.execute_input": "2023-04-11T13:39:54.989519Z",
     "iopub.status.busy": "2023-04-11T13:39:54.989519Z",
     "iopub.status.idle": "2023-04-11T13:39:55.014015Z",
     "shell.execute_reply": "2023-04-11T13:39:55.014015Z",
     "shell.execute_reply.started": "2023-04-11T13:39:54.989519Z"
    },
    "tags": []
   },
   "outputs": [],
   "source": [
    "def sigmoid_dt(x):\n",
    "    return x*(1-x)"
   ]
  },
  {
   "cell_type": "markdown",
   "id": "c5e5f77a-9da6-4ca1-ace2-7482fc967697",
   "metadata": {},
   "source": [
    "##### define the learning rate as 0.1"
   ]
  },
  {
   "cell_type": "code",
   "execution_count": 8,
   "id": "a2d6af69-17c2-400e-b821-c9121411f8c1",
   "metadata": {
    "execution": {
     "iopub.execute_input": "2023-04-11T13:39:59.804769Z",
     "iopub.status.busy": "2023-04-11T13:39:59.804769Z",
     "iopub.status.idle": "2023-04-11T13:39:59.819305Z",
     "shell.execute_reply": "2023-04-11T13:39:59.819305Z",
     "shell.execute_reply.started": "2023-04-11T13:39:59.804769Z"
    },
    "tags": []
   },
   "outputs": [],
   "source": [
    "lr= 0.1"
   ]
  },
  {
   "cell_type": "markdown",
   "id": "5f4fadd4-494b-484a-90c9-2e7ecbab3035",
   "metadata": {},
   "source": [
    "#### input and target values from standard input"
   ]
  },
  {
   "cell_type": "code",
   "execution_count": 9,
   "id": "27f3d346-99d2-4a01-aea9-8e8d4bc82bb5",
   "metadata": {
    "execution": {
     "iopub.execute_input": "2023-04-11T13:40:01.046419Z",
     "iopub.status.busy": "2023-04-11T13:40:01.046419Z",
     "iopub.status.idle": "2023-04-11T13:40:01.070553Z",
     "shell.execute_reply": "2023-04-11T13:40:01.070553Z",
     "shell.execute_reply.started": "2023-04-11T13:40:01.046419Z"
    },
    "tags": []
   },
   "outputs": [],
   "source": [
    "input_values = [-3,2,1,-1]\n",
    "target_values = [1,0,0]"
   ]
  },
  {
   "cell_type": "code",
   "execution_count": 10,
   "id": "c4b0cf42-f73c-48d8-a9ef-a2dc30b6770c",
   "metadata": {
    "execution": {
     "iopub.execute_input": "2023-04-11T13:40:01.636064Z",
     "iopub.status.busy": "2023-04-11T13:40:01.636064Z",
     "iopub.status.idle": "2023-04-11T13:40:01.652131Z",
     "shell.execute_reply": "2023-04-11T13:40:01.652131Z",
     "shell.execute_reply.started": "2023-04-11T13:40:01.636064Z"
    },
    "tags": []
   },
   "outputs": [],
   "source": [
    "#convert the input and target list to numpy arrs\n",
    "input_arr = np.array(input_values)\n",
    "target_arr = np.array(target_values)\n",
    "\n",
    "#reshape the input array to a row vector\n",
    "input_arr = input_arr.reshape((1, input_arr.shape[0]))"
   ]
  },
  {
   "cell_type": "markdown",
   "id": "1d4a2f9e-e08a-466e-a67b-368beed835b1",
   "metadata": {},
   "source": [
    "##### Feedforward step to compute initial output values"
   ]
  },
  {
   "cell_type": "code",
   "execution_count": 11,
   "id": "2da9c306-0b8f-410a-b810-cf27c53ee2d8",
   "metadata": {
    "execution": {
     "iopub.execute_input": "2023-04-11T13:40:03.267126Z",
     "iopub.status.busy": "2023-04-11T13:40:03.267126Z",
     "iopub.status.idle": "2023-04-11T13:40:03.283139Z",
     "shell.execute_reply": "2023-04-11T13:40:03.283139Z",
     "shell.execute_reply.started": "2023-04-11T13:40:03.267126Z"
    },
    "tags": []
   },
   "outputs": [],
   "source": [
    "hidden_layers = sigmoid(np.dot(input_arr, weights_1)+bias_1)\n",
    "output_layers = sigmoid(np.dot(hidden_layers, weights_2)+bias_2)"
   ]
  },
  {
   "cell_type": "markdown",
   "id": "6f7031ad-bf43-4672-8e08-fff588c3726d",
   "metadata": {},
   "source": [
    "##### compute the initial loss value\n",
    "\n",
    "$L = \\frac{1}{2}\\sum_{i=1}^{n}(y_i - t_i)^2$"
   ]
  },
  {
   "cell_type": "code",
   "execution_count": 12,
   "id": "97208a6a-fe7a-460a-8b4c-1c8f575aa087",
   "metadata": {
    "execution": {
     "iopub.execute_input": "2023-04-11T13:40:04.408100Z",
     "iopub.status.busy": "2023-04-11T13:40:04.408100Z",
     "iopub.status.idle": "2023-04-11T13:40:04.432106Z",
     "shell.execute_reply": "2023-04-11T13:40:04.432106Z",
     "shell.execute_reply.started": "2023-04-11T13:40:04.408100Z"
    },
    "tags": []
   },
   "outputs": [
    {
     "data": {
      "text/plain": [
       "0.9645128356990176"
      ]
     },
     "execution_count": 12,
     "metadata": {},
     "output_type": "execute_result"
    }
   ],
   "source": [
    "loss = 0.5 *np.sum(np.square((output_layers - target_arr))) \n",
    "loss"
   ]
  },
  {
   "cell_type": "markdown",
   "id": "4028b56d-ea20-4c52-89fe-12dfb341ae10",
   "metadata": {},
   "source": [
    "##### Backpropagation to update weights and biases"
   ]
  },
  {
   "cell_type": "code",
   "execution_count": 13,
   "id": "8986d2a9-bcc9-4708-84c2-665b24976072",
   "metadata": {
    "execution": {
     "iopub.execute_input": "2023-04-11T13:40:06.194323Z",
     "iopub.status.busy": "2023-04-11T13:40:06.194323Z",
     "iopub.status.idle": "2023-04-11T13:40:06.210015Z",
     "shell.execute_reply": "2023-04-11T13:40:06.210015Z",
     "shell.execute_reply.started": "2023-04-11T13:40:06.194323Z"
    },
    "tags": []
   },
   "outputs": [],
   "source": [
    "output_err = (output_layers - target_arr) * sigmoid_dt(output_layers)\n",
    "hidden_err = np.dot(output_err, weights_2.T)* sigmoid_dt(hidden_layers)\n",
    "weights_2-= lr*np.dot(hidden_layers.T, output_err)\n",
    "bias_2 -= lr * np.sum(output_err, axis=0, keepdims=True)\n",
    "weights_1 -= lr * np.dot(input_arr.T, hidden_err)\n",
    "bias_1 -= lr * np.sum(hidden_err, axis=0)"
   ]
  },
  {
   "cell_type": "markdown",
   "id": "7fe83644-bd00-417a-9a37-d57b3e6125bd",
   "metadata": {},
   "source": [
    "##### Feedforward step to compute updated output values"
   ]
  },
  {
   "cell_type": "code",
   "execution_count": 14,
   "id": "6a310d40-3197-463b-ad63-1629ae7c16f1",
   "metadata": {
    "execution": {
     "iopub.execute_input": "2023-04-11T13:40:07.818805Z",
     "iopub.status.busy": "2023-04-11T13:40:07.818805Z",
     "iopub.status.idle": "2023-04-11T13:40:07.834777Z",
     "shell.execute_reply": "2023-04-11T13:40:07.834777Z",
     "shell.execute_reply.started": "2023-04-11T13:40:07.818805Z"
    },
    "tags": []
   },
   "outputs": [],
   "source": [
    "hidden_layers = sigmoid(np.dot(input_arr, weights_1)+ bias_1)\n",
    "output_layers = sigmoid(np.dot(hidden_layers, weights_2)+ bias_2)"
   ]
  },
  {
   "cell_type": "markdown",
   "id": "935c0a6f-3030-4d41-87cd-5bdc4e9324bb",
   "metadata": {},
   "source": [
    "###### compute updated loss value"
   ]
  },
  {
   "cell_type": "code",
   "execution_count": 15,
   "id": "29db6422-0cc7-48cc-b2cd-50880c0f4047",
   "metadata": {
    "execution": {
     "iopub.execute_input": "2023-04-11T13:40:09.132573Z",
     "iopub.status.busy": "2023-04-11T13:40:09.132573Z",
     "iopub.status.idle": "2023-04-11T13:40:09.148823Z",
     "shell.execute_reply": "2023-04-11T13:40:09.148823Z",
     "shell.execute_reply.started": "2023-04-11T13:40:09.132573Z"
    },
    "tags": []
   },
   "outputs": [],
   "source": [
    "updated_loss = np.sum(np.square(output_layers-target_arr)) * .5"
   ]
  },
  {
   "cell_type": "markdown",
   "id": "f56970b1-fd5a-478e-9449-bb25e4a60a6e",
   "metadata": {},
   "source": [
    "##### print the initial and updated loss  values"
   ]
  },
  {
   "cell_type": "code",
   "execution_count": 16,
   "id": "09a5efbf-6f67-4469-9e4d-87771a889baa",
   "metadata": {
    "execution": {
     "iopub.execute_input": "2023-04-11T13:40:10.410693Z",
     "iopub.status.busy": "2023-04-11T13:40:10.410693Z",
     "iopub.status.idle": "2023-04-11T13:40:10.426606Z",
     "shell.execute_reply": "2023-04-11T13:40:10.426606Z",
     "shell.execute_reply.started": "2023-04-11T13:40:10.410693Z"
    },
    "tags": []
   },
   "outputs": [
    {
     "name": "stdout",
     "output_type": "stream",
     "text": [
      "0.9645 0.9636\n"
     ]
    }
   ],
   "source": [
    "print(round(float(loss.flatten()[0]), 4), round(float(updated_loss.flatten()[0]), 4))\n"
   ]
  },
  {
   "cell_type": "markdown",
   "id": "0968bb6f-98a2-4af3-9b30-6130ea5ddfa9",
   "metadata": {},
   "source": [
    "#### Visualization "
   ]
  },
  {
   "cell_type": "code",
   "execution_count": 17,
   "id": "04ad4c3d-3e38-4204-8a64-48d877f0b73d",
   "metadata": {
    "execution": {
     "iopub.execute_input": "2023-04-11T13:40:12.329733Z",
     "iopub.status.busy": "2023-04-11T13:40:12.329733Z",
     "iopub.status.idle": "2023-04-11T13:40:12.643542Z",
     "shell.execute_reply": "2023-04-11T13:40:12.643542Z",
     "shell.execute_reply.started": "2023-04-11T13:40:12.329733Z"
    },
    "tags": []
   },
   "outputs": [
    {
     "data": {
      "image/png": "[encoded data removed]",
      "text/plain": [
       "<Figure size 640x480 with 1 Axes>"
      ]
     },
     "metadata": {},
     "output_type": "display_data"
    }
   ],
   "source": [
    "import matplotlib.pyplot as plt\n",
    "\n",
    "losses = []\n",
    "updated_losses = []\n",
    "num_epochs = 100\n",
    "for epoch in range(num_epochs):\n",
    "    losses.append(loss)\n",
    "    updated_losses.append(updated_loss)\n",
    "epochs = range(1, num_epochs+1)\n",
    "plt.plot(epochs, losses, label='Loss')\n",
    "plt.plot(epochs, updated_losses, label='updated loss')\n",
    "plt.title('Loss and Updated loss over epochs')\n",
    "plt.xlabel('Epochs')\n",
    "plt.ylabel('Loss')\n",
    "plt.legend()\n",
    "plt.show()"
   ]
  },
  {
   "cell_type": "code",
   "execution_count": null,
   "id": "5f535132-7587-46f9-a53b-b92cfea5079b",
   "metadata": {},
   "outputs": [],
   "source": []
  }
 ],
 "metadata": {
  "kernelspec": {
   "display_name": "Python 3 (ipykernel)",
   "language": "python",
   "name": "python3"
  },
  "language_info": {
   "codemirror_mode": {
    "name": "ipython",
    "version": 3
   },
   "file_extension": ".py",
   "mimetype": "text/x-python",
   "name": "python",
   "nbconvert_exporter": "python",
   "pygments_lexer": "ipython3",
   "version": "3.8.8"
  },
  "widgets": {
   "application/vnd.jupyter.widget-state+json": {
    "state": {},
    "version_major": 2,
    "version_minor": 0
   }
  }
 },
 "nbformat": 4,
 "nbformat_minor": 5
}
