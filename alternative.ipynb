{
 "cells": [
  {
   "cell_type": "code",
   "execution_count": 1,
   "id": "c0d0129a-dec7-4ee8-a910-6b72bc0fe4ec",
   "metadata": {
    "execution": {
     "iopub.execute_input": "2023-04-11T16:19:14.428474Z",
     "iopub.status.busy": "2023-04-11T16:19:14.428474Z",
     "iopub.status.idle": "2023-04-11T16:19:14.837695Z",
     "shell.execute_reply": "2023-04-11T16:19:14.837695Z",
     "shell.execute_reply.started": "2023-04-11T16:19:14.428474Z"
    }
   },
   "outputs": [],
   "source": [
    "import numpy as np"
   ]
  },
  {
   "cell_type": "code",
   "execution_count": 2,
   "id": "b16d1328-c4a6-4c66-8885-08751e5932bc",
   "metadata": {
    "execution": {
     "iopub.execute_input": "2023-04-11T16:20:47.545579Z",
     "iopub.status.busy": "2023-04-11T16:20:47.545579Z",
     "iopub.status.idle": "2023-04-11T16:20:47.561747Z",
     "shell.execute_reply": "2023-04-11T16:20:47.561747Z",
     "shell.execute_reply.started": "2023-04-11T16:20:47.545579Z"
    }
   },
   "outputs": [],
   "source": [
    "input_data = np.array([1,0,-2,-3])\n",
    "target_data = np.array([0,0.7,0.3])"
   ]
  },
  {
   "cell_type": "code",
   "execution_count": 3,
   "id": "5465358d-2c29-4f98-8dda-e1d4725a7a46",
   "metadata": {
    "execution": {
     "iopub.execute_input": "2023-04-11T16:22:06.898825Z",
     "iopub.status.busy": "2023-04-11T16:22:06.898825Z",
     "iopub.status.idle": "2023-04-11T16:22:06.915180Z",
     "shell.execute_reply": "2023-04-11T16:22:06.915180Z",
     "shell.execute_reply.started": "2023-04-11T16:22:06.898825Z"
    }
   },
   "outputs": [],
   "source": [
    "input_size = 4\n",
    "hidden_size =6\n",
    "output_size = 3"
   ]
  },
  {
   "cell_type": "code",
   "execution_count": 4,
   "id": "14ae73aa-bdca-408d-9cda-23987f391fdd",
   "metadata": {
    "execution": {
     "iopub.execute_input": "2023-04-11T16:22:18.073107Z",
     "iopub.status.busy": "2023-04-11T16:22:18.072047Z",
     "iopub.status.idle": "2023-04-11T16:22:18.078899Z",
     "shell.execute_reply": "2023-04-11T16:22:18.078899Z",
     "shell.execute_reply.started": "2023-04-11T16:22:18.072559Z"
    }
   },
   "outputs": [],
   "source": [
    "weights = {\n",
    "    'hidden': np.ones((input_size, hidden_size)),\n",
    "    'output': np.ones((hidden_size, output_size))\n",
    "}\n",
    "biases = {\n",
    "    'hidden': np.ones(hidden_size),\n",
    "    'output': np.ones(output_size)\n",
    "}"
   ]
  },
  {
   "cell_type": "code",
   "execution_count": 12,
   "id": "4ff9eb7f-2937-4588-ba54-79d2d1d593d0",
   "metadata": {
    "execution": {
     "iopub.execute_input": "2023-04-11T16:29:05.916936Z",
     "iopub.status.busy": "2023-04-11T16:29:05.916936Z",
     "iopub.status.idle": "2023-04-11T16:29:05.933413Z",
     "shell.execute_reply": "2023-04-11T16:29:05.933413Z",
     "shell.execute_reply.started": "2023-04-11T16:29:05.916936Z"
    },
    "tags": []
   },
   "outputs": [],
   "source": [
    "def sigmoid(x):\n",
    "    return 1 / (1 + np.exp(-x))\n",
    "\n",
    "def sigmoid_dt(x):\n",
    "    return x*(1-x)\n",
    "\n",
    "learning_rate = 0.1\n",
    "loss = np.inf"
   ]
  },
  {
   "cell_type": "code",
   "execution_count": 13,
   "id": "4212fb3c-156a-401d-b171-407847e5dccf",
   "metadata": {
    "execution": {
     "iopub.execute_input": "2023-04-11T16:29:08.494646Z",
     "iopub.status.busy": "2023-04-11T16:29:08.494646Z",
     "iopub.status.idle": "2023-04-11T16:29:08.518925Z",
     "shell.execute_reply": "2023-04-11T16:29:08.518925Z",
     "shell.execute_reply.started": "2023-04-11T16:29:08.494646Z"
    },
    "tags": []
   },
   "outputs": [],
   "source": [
    "hidden_output = sigmoid(np.dot(input_data, weights['hidden']) + biases['hidden'])\n",
    "output = sigmoid(np.dot(hidden_output, weights['output']) + biases['output'])"
   ]
  },
  {
   "cell_type": "code",
   "execution_count": 22,
   "id": "c563926a-f77f-46e7-a57c-471bdac21c57",
   "metadata": {
    "execution": {
     "iopub.execute_input": "2023-04-11T16:33:19.425200Z",
     "iopub.status.busy": "2023-04-11T16:33:19.425200Z",
     "iopub.status.idle": "2023-04-11T16:33:19.449642Z",
     "shell.execute_reply": "2023-04-11T16:33:19.449642Z",
     "shell.execute_reply.started": "2023-04-11T16:33:19.425200Z"
    },
    "tags": []
   },
   "outputs": [],
   "source": [
    "def sum_squared_error(output, target_data):\n",
    "    return  0.5*np.sum(np.square(output - target_data))"
   ]
  },
  {
   "cell_type": "code",
   "execution_count": 23,
   "id": "e60e8c90-7d0b-47b8-8afb-e0657cf945c1",
   "metadata": {
    "execution": {
     "iopub.execute_input": "2023-04-11T16:33:21.228975Z",
     "iopub.status.busy": "2023-04-11T16:33:21.228975Z",
     "iopub.status.idle": "2023-04-11T16:33:21.244235Z",
     "shell.execute_reply": "2023-04-11T16:33:21.244235Z",
     "shell.execute_reply.started": "2023-04-11T16:33:21.228975Z"
    },
    "tags": []
   },
   "outputs": [
    {
     "data": {
      "text/plain": [
       "0.4269359958012008"
      ]
     },
     "execution_count": 23,
     "metadata": {},
     "output_type": "execute_result"
    }
   ],
   "source": [
    "loss = sum_squared_error(output,target_data)\n",
    "loss"
   ]
  },
  {
   "cell_type": "code",
   "execution_count": 28,
   "id": "04f29fa3-381c-4b4a-aea4-42a85acb8da2",
   "metadata": {
    "execution": {
     "iopub.execute_input": "2023-04-11T16:55:41.125977Z",
     "iopub.status.busy": "2023-04-11T16:55:41.125977Z",
     "iopub.status.idle": "2023-04-11T16:55:41.142258Z",
     "shell.execute_reply": "2023-04-11T16:55:41.142258Z",
     "shell.execute_reply.started": "2023-04-11T16:55:41.125977Z"
    },
    "tags": []
   },
   "outputs": [],
   "source": [
    "output_error = (output-target_data) * sigmoid_dt(output)\n",
    "hidden_error = np.dot(output_error, weights['output'].T) * sigmoid_dt(hidden_output)"
   ]
  },
  {
   "cell_type": "code",
   "execution_count": 29,
   "id": "bde794fe-4cc9-409a-b9b4-bac0e49249a0",
   "metadata": {
    "execution": {
     "iopub.execute_input": "2023-04-11T16:55:41.919783Z",
     "iopub.status.busy": "2023-04-11T16:55:41.917269Z",
     "iopub.status.idle": "2023-04-11T16:55:41.937352Z",
     "shell.execute_reply": "2023-04-11T16:55:41.935830Z",
     "shell.execute_reply.started": "2023-04-11T16:55:41.919783Z"
    },
    "tags": []
   },
   "outputs": [],
   "source": [
    "weights['output'] -= learning_rate * np.dot(hidden_output.reshape(hidden_output.shape[0],1), output_error.reshape(1,output_error.shape[0]))\n",
    "biases['output'] -= learning_rate * output_error"
   ]
  },
  {
   "cell_type": "code",
   "execution_count": 30,
   "id": "e1697714-0364-4d63-a124-b7f3a0f060ab",
   "metadata": {
    "execution": {
     "iopub.execute_input": "2023-04-11T16:55:42.344268Z",
     "iopub.status.busy": "2023-04-11T16:55:42.344268Z",
     "iopub.status.idle": "2023-04-11T16:55:42.352724Z",
     "shell.execute_reply": "2023-04-11T16:55:42.352287Z",
     "shell.execute_reply.started": "2023-04-11T16:55:42.344268Z"
    },
    "tags": []
   },
   "outputs": [],
   "source": [
    "weights['hidden'] -= learning_rate * np.dot(input_data.reshape(input_data.shape[0],1), hidden_error.reshape(1,hidden_error.shape[0]))\n",
    "biases['hidden'] -= learning_rate * hidden_error"
   ]
  },
  {
   "cell_type": "code",
   "execution_count": 31,
   "id": "9a763b23-88f4-478b-97a2-bcb29f0c4380",
   "metadata": {
    "execution": {
     "iopub.execute_input": "2023-04-11T16:55:42.770961Z",
     "iopub.status.busy": "2023-04-11T16:55:42.770961Z",
     "iopub.status.idle": "2023-04-11T16:55:42.795441Z",
     "shell.execute_reply": "2023-04-11T16:55:42.795441Z",
     "shell.execute_reply.started": "2023-04-11T16:55:42.770961Z"
    },
    "tags": []
   },
   "outputs": [],
   "source": [
    "hidden_output = sigmoid(np.dot(input_data, weights['hidden']) + biases['hidden'])\n",
    "updated_output = sigmoid(np.dot(hidden_output, weights['output']) + biases['output'])"
   ]
  },
  {
   "cell_type": "code",
   "execution_count": 62,
   "id": "f6f21ff0-87a4-42cd-9928-0adf919533d9",
   "metadata": {
    "execution": {
     "iopub.execute_input": "2023-04-11T17:15:43.271893Z",
     "iopub.status.busy": "2023-04-11T17:15:43.271893Z",
     "iopub.status.idle": "2023-04-11T17:15:43.295905Z",
     "shell.execute_reply": "2023-04-11T17:15:43.295905Z",
     "shell.execute_reply.started": "2023-04-11T17:15:43.271893Z"
    },
    "tags": []
   },
   "outputs": [
    {
     "data": {
      "text/plain": [
       "0.423475818751864"
      ]
     },
     "execution_count": 62,
     "metadata": {},
     "output_type": "execute_result"
    }
   ],
   "source": [
    "updated_loss = np.sum(np.square(updated_output - target_data)) * .5\n",
    "updated_loss"
   ]
  },
  {
   "cell_type": "code",
   "execution_count": 63,
   "id": "8ea29818-3420-488d-8ff7-580619377bb1",
   "metadata": {
    "execution": {
     "iopub.execute_input": "2023-04-11T17:16:35.202939Z",
     "iopub.status.busy": "2023-04-11T17:16:35.202939Z",
     "iopub.status.idle": "2023-04-11T17:16:35.227320Z",
     "shell.execute_reply": "2023-04-11T17:16:35.227320Z",
     "shell.execute_reply.started": "2023-04-11T17:16:35.202939Z"
    }
   },
   "outputs": [
    {
     "name": "stdout",
     "output_type": "stream",
     "text": [
      "Loss: 0.4235\n",
      "updated loss: 0.4235\n"
     ]
    }
   ],
   "source": [
    "print(\"Loss:\", np.round(loss,4))\n",
    "print(\"updated loss:\", np.round(updated_loss,4))"
   ]
  },
  {
   "cell_type": "code",
   "execution_count": 61,
   "id": "b60e2d4c-d665-4db3-9af1-3ef34c944981",
   "metadata": {
    "execution": {
     "iopub.execute_input": "2023-04-11T17:14:31.095875Z",
     "iopub.status.busy": "2023-04-11T17:14:31.095875Z",
     "iopub.status.idle": "2023-04-11T17:14:31.128104Z",
     "shell.execute_reply": "2023-04-11T17:14:31.128104Z",
     "shell.execute_reply.started": "2023-04-11T17:14:31.095875Z"
    },
    "tags": []
   },
   "outputs": [
    {
     "name": "stdout",
     "output_type": "stream",
     "text": [
      "Final loss: 0.423475818751864\n",
      "Iterations: 2\n",
      "Loss history: [0.4269 0.4235]\n"
     ]
    }
   ],
   "source": [
    "# initialize variables and hyperparameters\n",
    "input_size = 4\n",
    "hidden_size = 6\n",
    "output_size = 3\n",
    "learning_rate = 0.1\n",
    "loss = np.inf\n",
    "max_iterations = 100000\n",
    "iterations = 0\n",
    "losses = []\n",
    "\n",
    "# initialize weights and biases\n",
    "weights = {\n",
    "    'hidden': np.ones((input_size, hidden_size)),\n",
    "    'output': np.ones((hidden_size, output_size))\n",
    "}\n",
    "biases = {\n",
    "    'hidden': np.ones(hidden_size),\n",
    "    'output': np.ones(output_size)\n",
    "}\n",
    "\n",
    "# training loop\n",
    "while loss > 0.4235 and iterations < max_iterations:\n",
    "    # forward pass\n",
    "    hidden_output = sigmoid(np.dot(input_data, weights['hidden']) + biases['hidden'])\n",
    "    updated_output = sigmoid(np.dot(hidden_output, weights['output']) + biases['output'])\n",
    "    \n",
    "    # calculate loss\n",
    "    updated_loss = np.sum(np.square(updated_output - target_data)) * .5\n",
    "    losses.append(updated_loss)\n",
    "    \n",
    "    # backpropagation\n",
    "    output_error = (updated_output - target_data) * sigmoid_dt(updated_output)\n",
    "    hidden_error = np.dot(output_error, weights['output'].T) * sigmoid_dt(hidden_output)\n",
    "    \n",
    "    # update weights and biases\n",
    "    weights['output'] -= learning_rate * np.dot(hidden_output.reshape(hidden_output.shape[0],1), output_error.reshape(1,output_error.shape[0]))\n",
    "    biases['output'] -= learning_rate * output_error\n",
    "    weights['hidden'] -= learning_rate * np.dot(input_data.reshape(input_data.shape[0],1), hidden_error.reshape(1,hidden_error.shape[0]))\n",
    "    biases['hidden'] -= learning_rate * hidden_error\n",
    "    \n",
    "    # update loss and iterations\n",
    "    loss = updated_loss\n",
    "    iterations += 1\n",
    "\n",
    "# print results\n",
    "print(\"Final loss:\", loss)\n",
    "print(\"Iterations:\", iterations)\n",
    "print(\"Loss history:\",np.round(losses,4))\n"
   ]
  },
  {
   "cell_type": "code",
   "execution_count": null,
   "id": "475d5438-9907-4a82-be3a-2d574de45060",
   "metadata": {},
   "outputs": [],
   "source": []
  }
 ],
 "metadata": {
  "kernelspec": {
   "display_name": "Python 3 (ipykernel)",
   "language": "python",
   "name": "python3"
  },
  "language_info": {
   "codemirror_mode": {
    "name": "ipython",
    "version": 3
   },
   "file_extension": ".py",
   "mimetype": "text/x-python",
   "name": "python",
   "nbconvert_exporter": "python",
   "pygments_lexer": "ipython3",
   "version": "3.8.8"
  },
  "widgets": {
   "application/vnd.jupyter.widget-state+json": {
    "state": {},
    "version_major": 2,
    "version_minor": 0
   }
  }
 },
 "nbformat": 4,
 "nbformat_minor": 5
}
