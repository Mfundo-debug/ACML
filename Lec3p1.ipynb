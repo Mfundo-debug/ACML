{
 "cells": [
  {
   "cell_type": "code",
   "execution_count": 1,
   "id": "8a3468fb-59ac-4c27-b711-f977b34343c0",
   "metadata": {
    "execution": {
     "iopub.execute_input": "2023-04-18T11:50:38.607735Z",
     "iopub.status.busy": "2023-04-18T11:50:38.606725Z",
     "iopub.status.idle": "2023-04-18T11:50:38.825103Z",
     "shell.execute_reply": "2023-04-18T11:50:38.824103Z",
     "shell.execute_reply.started": "2023-04-18T11:50:38.607735Z"
    },
    "tags": []
   },
   "outputs": [],
   "source": [
    "import numpy as np"
   ]
  },
  {
   "cell_type": "markdown",
   "id": "253f6a5f-94de-4bb4-844c-97c037792628",
   "metadata": {},
   "source": [
    "$$ L(y,t) = \\frac{1}{2}\\sum_{j=1}^{k}(y_j - t_j)^{2}$$\n",
    "Sum of squares loss"
   ]
  },
  {
   "cell_type": "code",
   "execution_count": 2,
   "id": "795e40b2-30a8-4fd7-b892-62184d075781",
   "metadata": {
    "execution": {
     "iopub.execute_input": "2023-04-18T11:50:38.826102Z",
     "iopub.status.busy": "2023-04-18T11:50:38.826102Z",
     "iopub.status.idle": "2023-04-18T11:50:38.838380Z",
     "shell.execute_reply": "2023-04-18T11:50:38.838380Z",
     "shell.execute_reply.started": "2023-04-18T11:50:38.826102Z"
    }
   },
   "outputs": [],
   "source": [
    "t = np.array([1,0,0])\n",
    "y = np.array([0.7,0.3,0.4])"
   ]
  },
  {
   "cell_type": "code",
   "execution_count": 3,
   "id": "bc129617-c242-4738-95e7-64df1f0fbaee",
   "metadata": {
    "execution": {
     "iopub.execute_input": "2023-04-18T11:50:38.838380Z",
     "iopub.status.busy": "2023-04-18T11:50:38.838380Z",
     "iopub.status.idle": "2023-04-18T11:50:38.855171Z",
     "shell.execute_reply": "2023-04-18T11:50:38.854167Z",
     "shell.execute_reply.started": "2023-04-18T11:50:38.838380Z"
    }
   },
   "outputs": [],
   "source": [
    "def sum_of_squares(y,t):\n",
    "    return 0.5 * np.sum(np.square(y-t))"
   ]
  },
  {
   "cell_type": "code",
   "execution_count": 4,
   "id": "2ca29f62-b7e5-4579-bfff-865d5c7dda9d",
   "metadata": {
    "execution": {
     "iopub.execute_input": "2023-04-18T11:50:38.856166Z",
     "iopub.status.busy": "2023-04-18T11:50:38.856166Z",
     "iopub.status.idle": "2023-04-18T11:50:38.871165Z",
     "shell.execute_reply": "2023-04-18T11:50:38.870167Z",
     "shell.execute_reply.started": "2023-04-18T11:50:38.856166Z"
    },
    "tags": []
   },
   "outputs": [
    {
     "data": {
      "text/plain": [
       "0.17"
      ]
     },
     "execution_count": 4,
     "metadata": {},
     "output_type": "execute_result"
    }
   ],
   "source": [
    "np.round(sum_of_squares(y,t),2)"
   ]
  },
  {
   "cell_type": "markdown",
   "id": "276b49e7-e18e-4aaf-9655-33aa8b8b92d4",
   "metadata": {},
   "source": [
    "#### Exercises\n",
    "* given the function $f(w) = \\sigma(3w-2)$ and the point $w = 0.5$, apply gradient descent update rule $n = 0.1$"
   ]
  },
  {
   "cell_type": "code",
   "execution_count": 5,
   "id": "13366288-a82a-4a69-b920-185e2179b109",
   "metadata": {
    "execution": {
     "iopub.execute_input": "2023-04-18T11:50:38.873169Z",
     "iopub.status.busy": "2023-04-18T11:50:38.872168Z",
     "iopub.status.idle": "2023-04-18T11:50:38.894744Z",
     "shell.execute_reply": "2023-04-18T11:50:38.893749Z",
     "shell.execute_reply.started": "2023-04-18T11:50:38.873169Z"
    },
    "tags": []
   },
   "outputs": [
    {
     "name": "stdout",
     "output_type": "stream",
     "text": [
      "Initial value of w: 0.5\n",
      "New value of w after one interation: 1.81\n"
     ]
    }
   ],
   "source": [
    "def sigmoid(x):\n",
    "    return 1/ 1+np.exp(-x)\n",
    "def f(w):\n",
    "    return sigmoid(3*w -2)\n",
    "def grad_f(w):\n",
    "    return 3*sigmoid(3*w-2)*(1- sigmoid(3*w-2))\n",
    "w= 0.5\n",
    "n=0.1\n",
    "update = n * grad_f(w)\n",
    "w_new = w - update\n",
    "print(f\"Initial value of w: {w}\")\n",
    "print(f\"New value of w after one interation: {np.round(w_new,2)}\")"
   ]
  },
  {
   "cell_type": "markdown",
   "id": "71bbbb35-ab64-42e9-9fef-303a01de9bf6",
   "metadata": {},
   "source": [
    "* given the function $F(w_1,w_2) = \\exp^{2w_1 -3w_2 +1}$ and the point $w = (w_1,w_2) = (0.4,0.5)$ apply gradient descent update $n=0.1$"
   ]
  },
  {
   "cell_type": "code",
   "execution_count": 6,
   "id": "0bb8a0a7-396f-438f-827a-88f591619912",
   "metadata": {
    "execution": {
     "iopub.execute_input": "2023-04-18T11:50:38.896752Z",
     "iopub.status.busy": "2023-04-18T11:50:38.896752Z",
     "iopub.status.idle": "2023-04-18T11:50:38.910744Z",
     "shell.execute_reply": "2023-04-18T11:50:38.909746Z",
     "shell.execute_reply.started": "2023-04-18T11:50:38.896752Z"
    }
   },
   "outputs": [
    {
     "name": "stdout",
     "output_type": "stream",
     "text": [
      "Initial value of w: (0.4, 0.5)\n",
      "new value of w after one iteration:[0.13 0.1 ]\n"
     ]
    }
   ],
   "source": [
    "def f(w1,w2):\n",
    "    return np.exp(2*w1-3*w2+1)\n",
    "def grad_f(w1,w2):\n",
    "    df_dw1 = 2 * np.exp(2*w1 - 3*w2 +1)\n",
    "    df_dw2 = 3 * np.exp(2*w1-3*w2+1)\n",
    "    return np.array([df_dw1, df_dw2])\n",
    "w = w1,w2 = 0.4,0.5\n",
    "n= 0.1\n",
    "update = n*grad_f(w1,w2)\n",
    "w_new = w - update\n",
    "print(f\"Initial value of w: {w}\")\n",
    "print(f\"new value of w after one iteration:{np.round(w_new,2)}\")"
   ]
  },
  {
   "cell_type": "markdown",
   "id": "484147b1-d18a-4cdb-8a01-22b4a8fcb6b7",
   "metadata": {},
   "source": [
    "#### Exercises pt2\n",
    "\n",
    "(1) If $y = \\sigma (z) $, show that $\\frac{dy}{dz} =\\sigma(z)(1-\\sigma(z)) = y(1-y)$"
   ]
  },
  {
   "cell_type": "markdown",
   "id": "35957fe4-3ac9-4594-bfef-ef42b0ce65f2",
   "metadata": {},
   "source": [
    "\n",
    "$$\n",
    "\\begin{eqnarray*}\n",
    "\\frac{dy}{dz} = \\frac{d}{dz} \\sigma(z)\n",
    "\\frac{d}{dz}\\sigma(z)=\\sigma(z)(1-\\sigma(z))\n",
    "\\frac{dy}{dz} = y(1-y)\n",
    "\\end{eqnarray*}\n",
    "$$\n"
   ]
  },
  {
   "cell_type": "markdown",
   "id": "e41db0de-4a56-414e-a74c-8f8f10454bef",
   "metadata": {},
   "source": [
    "(2) Consider a network with 2 input nodes, one hidden layer with 2 nodes, and 2 output node, weights and bias values are given W1,W2, b1 and b2"
   ]
  },
  {
   "cell_type": "code",
   "execution_count": 7,
   "id": "66daa658-fdb7-4803-b9ed-1c8b47a9a326",
   "metadata": {
    "execution": {
     "iopub.execute_input": "2023-04-18T11:50:38.911743Z",
     "iopub.status.busy": "2023-04-18T11:50:38.911743Z",
     "iopub.status.idle": "2023-04-18T11:50:38.926749Z",
     "shell.execute_reply": "2023-04-18T11:50:38.925746Z",
     "shell.execute_reply.started": "2023-04-18T11:50:38.911743Z"
    }
   },
   "outputs": [],
   "source": [
    "w_1 = np.array([[1,-1],[-3,-2]])\n",
    "w_2 = np.array([[-2,0],[0,3]])\n",
    "b_1 = np.array([0,1])\n",
    "b_2 = np.array([1,-2])"
   ]
  },
  {
   "cell_type": "code",
   "execution_count": 8,
   "id": "60d3c64e-5589-4526-a64a-093fb7eb96cf",
   "metadata": {
    "execution": {
     "iopub.execute_input": "2023-04-18T11:50:38.927749Z",
     "iopub.status.busy": "2023-04-18T11:50:38.927749Z",
     "iopub.status.idle": "2023-04-18T11:50:38.948455Z",
     "shell.execute_reply": "2023-04-18T11:50:38.946428Z",
     "shell.execute_reply.started": "2023-04-18T11:50:38.927749Z"
    }
   },
   "outputs": [],
   "source": [
    "x = np.array([1,-2])\n",
    "t = np.array([1,0])"
   ]
  },
  {
   "cell_type": "markdown",
   "id": "3f95fdfb-872e-4b7e-9ab7-c641e310f0b2",
   "metadata": {},
   "source": [
    "* Calculate the output vector $y=(y_1,y_2)$ for input $x$"
   ]
  },
  {
   "cell_type": "code",
   "execution_count": 9,
   "id": "4f35390d-6cff-4824-b676-a7181fc62a2f",
   "metadata": {
    "execution": {
     "iopub.execute_input": "2023-04-18T11:50:38.950445Z",
     "iopub.status.busy": "2023-04-18T11:50:38.949444Z",
     "iopub.status.idle": "2023-04-18T11:50:38.963442Z",
     "shell.execute_reply": "2023-04-18T11:50:38.962442Z",
     "shell.execute_reply.started": "2023-04-18T11:50:38.950445Z"
    }
   },
   "outputs": [],
   "source": [
    "def sigmoid(x):\n",
    "    return 1/ 1 + np.exp(-x)"
   ]
  },
  {
   "cell_type": "code",
   "execution_count": 10,
   "id": "05629c7e-c288-43d7-88e0-21358b3e288c",
   "metadata": {
    "execution": {
     "iopub.execute_input": "2023-04-18T11:50:38.964443Z",
     "iopub.status.busy": "2023-04-18T11:50:38.964443Z",
     "iopub.status.idle": "2023-04-18T11:50:38.979447Z",
     "shell.execute_reply": "2023-04-18T11:50:38.978441Z",
     "shell.execute_reply.started": "2023-04-18T11:50:38.964443Z"
    },
    "tags": []
   },
   "outputs": [
    {
     "name": "stdout",
     "output_type": "stream",
     "text": [
      "output vector [3.7232 1.3482]\n"
     ]
    }
   ],
   "source": [
    "hidden_x = sigmoid(np.dot(x,w_1)+b_1)\n",
    "output_x = sigmoid(np.dot(hidden_x, w_2)+b_2)\n",
    "print(\"output vector\", np.round(output_x,4))"
   ]
  },
  {
   "cell_type": "markdown",
   "id": "1995a25e-c777-4c96-9ecb-1d761ec58cb9",
   "metadata": {},
   "source": [
    "* (b) Compute sum-of-squares loss for input $x$\n",
    "\n",
    "$$L(y,t) = \\frac{1}{2}\\sum^{k}_{j=1}(y_j - t_j)$$"
   ]
  },
  {
   "cell_type": "code",
   "execution_count": 11,
   "id": "e461d3ad-3c0f-47ca-a8d4-b242cfa41ef8",
   "metadata": {
    "execution": {
     "iopub.execute_input": "2023-04-18T11:50:38.982446Z",
     "iopub.status.busy": "2023-04-18T11:50:38.981451Z",
     "iopub.status.idle": "2023-04-18T11:50:38.994442Z",
     "shell.execute_reply": "2023-04-18T11:50:38.993447Z",
     "shell.execute_reply.started": "2023-04-18T11:50:38.982446Z"
    },
    "tags": []
   },
   "outputs": [],
   "source": [
    "def sumofsquares(output_x, t):\n",
    "    return 0.5 * np.sum(np.square(output_x - t))"
   ]
  },
  {
   "cell_type": "code",
   "execution_count": 12,
   "id": "f8c55649-8cde-43bb-8644-c793142ade2a",
   "metadata": {
    "execution": {
     "iopub.execute_input": "2023-04-18T11:50:38.997442Z",
     "iopub.status.busy": "2023-04-18T11:50:38.997442Z",
     "iopub.status.idle": "2023-04-18T11:50:39.009443Z",
     "shell.execute_reply": "2023-04-18T11:50:39.008443Z",
     "shell.execute_reply.started": "2023-04-18T11:50:38.997442Z"
    }
   },
   "outputs": [
    {
     "data": {
      "text/plain": [
       "4.6168648805071575"
      ]
     },
     "execution_count": 12,
     "metadata": {},
     "output_type": "execute_result"
    }
   ],
   "source": [
    "sumofsquares(output_x,t)"
   ]
  },
  {
   "cell_type": "markdown",
   "id": "e40fbe00-60f9-4a1c-891d-7aeff5b17a57",
   "metadata": {},
   "source": [
    "* (c) Do the weight updates for each edge weight and bias according to the Neural Network Training Algorithm with sum-of-squares loss and sigmoid activation functions."
   ]
  },
  {
   "cell_type": "code",
   "execution_count": 13,
   "id": "ad86d66e-02d0-41ae-8e5f-1c5775e77e57",
   "metadata": {
    "execution": {
     "iopub.execute_input": "2023-04-18T11:50:39.011446Z",
     "iopub.status.busy": "2023-04-18T11:50:39.010442Z",
     "iopub.status.idle": "2023-04-18T11:50:39.020698Z",
     "shell.execute_reply": "2023-04-18T11:50:39.020698Z",
     "shell.execute_reply.started": "2023-04-18T11:50:39.011446Z"
    },
    "tags": []
   },
   "outputs": [],
   "source": [
    "def sigmoid_dt(x):\n",
    "    return x * (1 - x)"
   ]
  },
  {
   "cell_type": "code",
   "execution_count": 14,
   "id": "5f65275a-a965-462a-9a60-4beb377150d5",
   "metadata": {
    "execution": {
     "iopub.execute_input": "2023-04-18T11:50:39.020698Z",
     "iopub.status.busy": "2023-04-18T11:50:39.020698Z",
     "iopub.status.idle": "2023-04-18T11:50:39.037831Z",
     "shell.execute_reply": "2023-04-18T11:50:39.035829Z",
     "shell.execute_reply.started": "2023-04-18T11:50:39.020698Z"
    },
    "tags": []
   },
   "outputs": [],
   "source": [
    "lr = 0.1\n",
    "error = output_x - t\n",
    "delta_output = error * output_x * ( 1- output_x)\n",
    "delta_hidden = np.dot(delta_output, w_2.T) * sigmoid_dt(hidden_x)"
   ]
  },
  {
   "cell_type": "code",
   "execution_count": 15,
   "id": "3b6dfefa-8fc0-4060-b8bb-98d006b97e1c",
   "metadata": {
    "execution": {
     "iopub.execute_input": "2023-04-18T11:50:39.040832Z",
     "iopub.status.busy": "2023-04-18T11:50:39.039832Z",
     "iopub.status.idle": "2023-04-18T11:50:39.052830Z",
     "shell.execute_reply": "2023-04-18T11:50:39.051825Z",
     "shell.execute_reply.started": "2023-04-18T11:50:39.039832Z"
    },
    "tags": []
   },
   "outputs": [],
   "source": [
    "w_2 = w_2.astype('float64')\n",
    "b_2 = b_2.astype('float64')\n",
    "w_1 = w_1.astype('float64')\n",
    "b_1 = b_1.astype('float64')"
   ]
  },
  {
   "cell_type": "code",
   "execution_count": 16,
   "id": "83d47f05-a66b-4efc-9488-6e07d573d7e2",
   "metadata": {
    "execution": {
     "iopub.execute_input": "2023-04-18T11:50:39.055827Z",
     "iopub.status.busy": "2023-04-18T11:50:39.054826Z",
     "iopub.status.idle": "2023-04-18T11:50:39.068838Z",
     "shell.execute_reply": "2023-04-18T11:50:39.067836Z",
     "shell.execute_reply.started": "2023-04-18T11:50:39.055827Z"
    },
    "tags": []
   },
   "outputs": [],
   "source": [
    "w_2 -= lr * np.dot(hidden_x.T, delta_output)\n",
    "b_2 -= lr * np.sum(delta_output, axis=0)\n",
    "w_1 -= lr * np.dot(x.T, delta_hidden)\n",
    "b_1 -= lr * np.sum(delta_hidden, axis=0)"
   ]
  },
  {
   "cell_type": "code",
   "execution_count": 17,
   "id": "f016fc8c-6d49-4255-ba69-9d549e0ba303",
   "metadata": {
    "execution": {
     "iopub.execute_input": "2023-04-18T11:50:39.071828Z",
     "iopub.status.busy": "2023-04-18T11:50:39.070829Z",
     "iopub.status.idle": "2023-04-18T11:50:39.084826Z",
     "shell.execute_reply": "2023-04-18T11:50:39.083835Z",
     "shell.execute_reply.started": "2023-04-18T11:50:39.071828Z"
    },
    "tags": []
   },
   "outputs": [
    {
     "name": "stdout",
     "output_type": "stream",
     "text": [
      "Updated weights W_1: [[ 1.01212327 -0.98787673]\n",
      " [-2.98787673 -1.98787673]]\n",
      "Updated weights W_2: [[0.82814938 2.82814938]\n",
      " [2.82814938 5.82814938]]\n",
      "Updated biases b_1: [0.00149886 1.00149886]\n",
      "Updated biases b_2: [3.82447225 0.82447225]\n"
     ]
    }
   ],
   "source": [
    "print(\"Updated weights W_1:\", w_1)\n",
    "print(\"Updated weights W_2:\", w_2)\n",
    "print(\"Updated biases b_1:\", b_1)\n",
    "print(\"Updated biases b_2:\", b_2)"
   ]
  },
  {
   "cell_type": "markdown",
   "id": "f0f466a8-25d5-4606-b260-f2d8fe1fac8f",
   "metadata": {},
   "source": [
    "* (d) Feed  (x) into updated_network to get the output"
   ]
  },
  {
   "cell_type": "code",
   "execution_count": 18,
   "id": "085f526b-a84e-450a-aa15-131e5f29725f",
   "metadata": {
    "execution": {
     "iopub.execute_input": "2023-04-18T11:53:37.904384Z",
     "iopub.status.busy": "2023-04-18T11:53:37.903393Z",
     "iopub.status.idle": "2023-04-18T11:53:37.923384Z",
     "shell.execute_reply": "2023-04-18T11:53:37.921411Z",
     "shell.execute_reply.started": "2023-04-18T11:53:37.904384Z"
    }
   },
   "outputs": [
    {
     "name": "stdout",
     "output_type": "stream",
     "text": [
      "updated output vector [1.0005 1.0001]\n"
     ]
    }
   ],
   "source": [
    "hidden_x = sigmoid(np.dot(x, w_1)+b_1)\n",
    "output_x = sigmoid(np.dot(hidden_x, w_2)+ b_2)\n",
    "print(\"updated output vector\", np.round(output_x,4))"
   ]
  },
  {
   "cell_type": "markdown",
   "id": "4a19df74-b1fa-46d9-b317-de2241956cca",
   "metadata": {},
   "source": [
    "* (e) Compute the sum of squares to update loss"
   ]
  },
  {
   "cell_type": "code",
   "execution_count": 19,
   "id": "46e385c7-f43f-4c84-a913-804d75c6cb99",
   "metadata": {
    "execution": {
     "iopub.execute_input": "2023-04-18T11:55:28.744028Z",
     "iopub.status.busy": "2023-04-18T11:55:28.744028Z",
     "iopub.status.idle": "2023-04-18T11:55:28.753030Z",
     "shell.execute_reply": "2023-04-18T11:55:28.752026Z",
     "shell.execute_reply.started": "2023-04-18T11:55:28.744028Z"
    }
   },
   "outputs": [
    {
     "data": {
      "text/plain": [
       "0.5000684682742226"
      ]
     },
     "execution_count": 19,
     "metadata": {},
     "output_type": "execute_result"
    }
   ],
   "source": [
    "sumofsquares(output_x,t)"
   ]
  },
  {
   "cell_type": "code",
   "execution_count": null,
   "id": "8efc3e01-f1f3-479e-b499-3455c299abb9",
   "metadata": {},
   "outputs": [],
   "source": []
  }
 ],
 "metadata": {
  "kernelspec": {
   "display_name": "Python 3 (ipykernel)",
   "language": "python",
   "name": "python3"
  },
  "language_info": {
   "codemirror_mode": {
    "name": "ipython",
    "version": 3
   },
   "file_extension": ".py",
   "mimetype": "text/x-python",
   "name": "python",
   "nbconvert_exporter": "python",
   "pygments_lexer": "ipython3",
   "version": "3.8.8"
  },
  "widgets": {
   "application/vnd.jupyter.widget-state+json": {
    "state": {},
    "version_major": 2,
    "version_minor": 0
   }
  }
 },
 "nbformat": 4,
 "nbformat_minor": 5
}
