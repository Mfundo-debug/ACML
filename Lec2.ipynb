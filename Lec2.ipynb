{
 "cells": [
  {
   "cell_type": "code",
   "execution_count": 1,
   "id": "3283b9bc-1c21-4189-b7de-c274c1e501e2",
   "metadata": {
    "execution": {
     "iopub.execute_input": "2023-04-17T17:09:07.145228Z",
     "iopub.status.busy": "2023-04-17T17:09:07.144227Z",
     "iopub.status.idle": "2023-04-17T17:09:07.388775Z",
     "shell.execute_reply": "2023-04-17T17:09:07.387768Z",
     "shell.execute_reply.started": "2023-04-17T17:09:07.145228Z"
    }
   },
   "outputs": [],
   "source": [
    "import numpy as np"
   ]
  },
  {
   "cell_type": "code",
   "execution_count": 2,
   "id": "24541d6c-b80c-4d99-aae8-0c5163c464b0",
   "metadata": {
    "execution": {
     "iopub.execute_input": "2023-04-17T17:12:50.179908Z",
     "iopub.status.busy": "2023-04-17T17:12:50.178905Z",
     "iopub.status.idle": "2023-04-17T17:12:50.197959Z",
     "shell.execute_reply": "2023-04-17T17:12:50.196953Z",
     "shell.execute_reply.started": "2023-04-17T17:12:50.179908Z"
    }
   },
   "outputs": [],
   "source": [
    "i_e = np.array([2,1])\n",
    "w_e1 = np.array([[2,1,-1],[-2,-4,1]])\n",
    "b_e1 = np.array([1,-1,2])\n",
    "w_e2 = np.array([[-2,3],[3,-1],[5,0]])\n",
    "b_e2 = np.array([0,-1])"
   ]
  },
  {
   "cell_type": "code",
   "execution_count": 3,
   "id": "5d312a3b-412e-4a08-b15f-6aae3367fd0b",
   "metadata": {
    "execution": {
     "iopub.execute_input": "2023-04-17T17:18:36.163854Z",
     "iopub.status.busy": "2023-04-17T17:18:36.163854Z",
     "iopub.status.idle": "2023-04-17T17:18:36.188075Z",
     "shell.execute_reply": "2023-04-17T17:18:36.187077Z",
     "shell.execute_reply.started": "2023-04-17T17:18:36.163854Z"
    }
   },
   "outputs": [
    {
     "data": {
      "text/plain": [
       "array([ 2, -2, -1])"
      ]
     },
     "execution_count": 3,
     "metadata": {},
     "output_type": "execute_result"
    }
   ],
   "source": [
    "i_eW = np.dot(i_e,w_e1)\n",
    "i_eW"
   ]
  },
  {
   "cell_type": "code",
   "execution_count": 4,
   "id": "119e9deb-af36-4978-ab5e-022162c53659",
   "metadata": {
    "execution": {
     "iopub.execute_input": "2023-04-17T17:20:13.118275Z",
     "iopub.status.busy": "2023-04-17T17:20:13.117273Z",
     "iopub.status.idle": "2023-04-17T17:20:13.139273Z",
     "shell.execute_reply": "2023-04-17T17:20:13.138275Z",
     "shell.execute_reply.started": "2023-04-17T17:20:13.118275Z"
    }
   },
   "outputs": [
    {
     "data": {
      "text/plain": [
       "array([ 3, -3,  1])"
      ]
     },
     "execution_count": 4,
     "metadata": {},
     "output_type": "execute_result"
    }
   ],
   "source": [
    "i_eW += b_e1\n",
    "i_eW"
   ]
  },
  {
   "cell_type": "code",
   "execution_count": 5,
   "id": "1a793318-b5f4-4fa2-b441-2f1d57275483",
   "metadata": {
    "execution": {
     "iopub.execute_input": "2023-04-17T17:21:05.830105Z",
     "iopub.status.busy": "2023-04-17T17:21:05.829115Z",
     "iopub.status.idle": "2023-04-17T17:21:05.849104Z",
     "shell.execute_reply": "2023-04-17T17:21:05.848104Z",
     "shell.execute_reply.started": "2023-04-17T17:21:05.830105Z"
    }
   },
   "outputs": [],
   "source": [
    "def sigmoid(x):\n",
    "    return 1 / (1 + np.exp(-x))"
   ]
  },
  {
   "cell_type": "code",
   "execution_count": 14,
   "id": "d5ef8694-8772-4ae3-b736-f0ce9456aedc",
   "metadata": {
    "execution": {
     "iopub.execute_input": "2023-04-17T17:27:48.299543Z",
     "iopub.status.busy": "2023-04-17T17:27:48.298540Z",
     "iopub.status.idle": "2023-04-17T17:27:48.311544Z",
     "shell.execute_reply": "2023-04-17T17:27:48.310542Z",
     "shell.execute_reply.started": "2023-04-17T17:27:48.299543Z"
    },
    "tags": []
   },
   "outputs": [
    {
     "data": {
      "text/plain": [
       "array([0.953, 0.047, 0.731])"
      ]
     },
     "execution_count": 14,
     "metadata": {},
     "output_type": "execute_result"
    }
   ],
   "source": [
    "g1 = sigmoid(i_eW)\n",
    "g1=np.round(g1,3)\n",
    "g1"
   ]
  },
  {
   "cell_type": "code",
   "execution_count": 15,
   "id": "ba93bb9f-21bc-4893-9010-cb8acb20b46e",
   "metadata": {
    "execution": {
     "iopub.execute_input": "2023-04-17T17:27:52.108417Z",
     "iopub.status.busy": "2023-04-17T17:27:52.108417Z",
     "iopub.status.idle": "2023-04-17T17:27:52.129419Z",
     "shell.execute_reply": "2023-04-17T17:27:52.128441Z",
     "shell.execute_reply.started": "2023-04-17T17:27:52.108417Z"
    },
    "tags": []
   },
   "outputs": [
    {
     "name": "stdout",
     "output_type": "stream",
     "text": [
      "[1.89  2.812]\n"
     ]
    }
   ],
   "source": [
    "g1W = np.dot(g1,w_e2)\n",
    "print(np.round(g1W,4))"
   ]
  },
  {
   "cell_type": "code",
   "execution_count": 16,
   "id": "0aebb9eb-b156-4f52-92fb-c4a1b4908b97",
   "metadata": {
    "execution": {
     "iopub.execute_input": "2023-04-17T17:28:09.600476Z",
     "iopub.status.busy": "2023-04-17T17:28:09.599476Z",
     "iopub.status.idle": "2023-04-17T17:28:09.622052Z",
     "shell.execute_reply": "2023-04-17T17:28:09.621061Z",
     "shell.execute_reply.started": "2023-04-17T17:28:09.600476Z"
    },
    "tags": []
   },
   "outputs": [
    {
     "data": {
      "text/plain": [
       "array([1.89 , 1.812])"
      ]
     },
     "execution_count": 16,
     "metadata": {},
     "output_type": "execute_result"
    }
   ],
   "source": [
    "g1W += b_e2\n",
    "g1W"
   ]
  },
  {
   "cell_type": "code",
   "execution_count": 17,
   "id": "491ae905-cca5-4794-b4b6-2d5dd3a784fb",
   "metadata": {
    "execution": {
     "iopub.execute_input": "2023-04-17T17:30:05.052851Z",
     "iopub.status.busy": "2023-04-17T17:30:05.052851Z",
     "iopub.status.idle": "2023-04-17T17:30:05.067852Z",
     "shell.execute_reply": "2023-04-17T17:30:05.066862Z",
     "shell.execute_reply.started": "2023-04-17T17:30:05.052851Z"
    }
   },
   "outputs": [
    {
     "data": {
      "text/plain": [
       "array([0.869, 0.86 ])"
      ]
     },
     "execution_count": 17,
     "metadata": {},
     "output_type": "execute_result"
    }
   ],
   "source": [
    "g2 = sigmoid(g1W)\n",
    "g2 = np.round(g2,3)\n",
    "g2"
   ]
  },
  {
   "cell_type": "markdown",
   "id": "d14ef35d-4b76-4d2f-8b36-f0ddad9cb319",
   "metadata": {},
   "source": [
    "###### Exercises 1\n",
    "* (i) (1,0, 2, -3)"
   ]
  },
  {
   "cell_type": "code",
   "execution_count": 18,
   "id": "5714a28c-1c1f-4c3d-ae2d-03e913c57157",
   "metadata": {
    "execution": {
     "iopub.execute_input": "2023-04-17T17:38:09.275938Z",
     "iopub.status.busy": "2023-04-17T17:38:09.275938Z",
     "iopub.status.idle": "2023-04-17T17:38:09.296929Z",
     "shell.execute_reply": "2023-04-17T17:38:09.295928Z",
     "shell.execute_reply.started": "2023-04-17T17:38:09.275938Z"
    }
   },
   "outputs": [],
   "source": [
    "i1 = np.array([1,0,2,-3])\n",
    "W1 = np.array([[4,-5,0,1],[-3,6,-1,2],[0,1,1,-2],[2,0,-3,4]])\n",
    "b1 = np.array([1,-2,0,-1])\n",
    "W2 = np.array([[-2,1],[-1,0],[1,-3],[5,-1]])\n",
    "b2 = np.array([-2,2])"
   ]
  },
  {
   "cell_type": "code",
   "execution_count": 21,
   "id": "244c0a1f-25a7-4634-983c-09e98bb4bef6",
   "metadata": {
    "execution": {
     "iopub.execute_input": "2023-04-17T17:42:29.703151Z",
     "iopub.status.busy": "2023-04-17T17:42:29.703151Z",
     "iopub.status.idle": "2023-04-17T17:42:29.717151Z",
     "shell.execute_reply": "2023-04-17T17:42:29.716150Z",
     "shell.execute_reply.started": "2023-04-17T17:42:29.703151Z"
    },
    "tags": []
   },
   "outputs": [
    {
     "name": "stdout",
     "output_type": "stream",
     "text": [
      "hidden layer1: [0.269 0.007 1.    0.   ]\n",
      "output layer1: [0.176 0.325]\n"
     ]
    }
   ],
   "source": [
    "hidden1 = sigmoid(np.dot(i1,W1)+b1)\n",
    "output1 = sigmoid(np.dot(hidden1,W2)+b2)\n",
    "print(\"hidden layer1:\", np.round(hidden1,3))\n",
    "print(\"output layer1:\", np.round(output1,3))"
   ]
  },
  {
   "cell_type": "markdown",
   "id": "3bba52c6-055e-4094-b1cb-9c35a4f88fff",
   "metadata": {},
   "source": [
    "* (ii) (-2,3,1,0)"
   ]
  },
  {
   "cell_type": "code",
   "execution_count": 23,
   "id": "ed8db30f-e2ce-4884-910b-e88e593d83ff",
   "metadata": {
    "execution": {
     "iopub.execute_input": "2023-04-17T17:49:09.546025Z",
     "iopub.status.busy": "2023-04-17T17:49:09.545028Z",
     "iopub.status.idle": "2023-04-17T17:49:09.562028Z",
     "shell.execute_reply": "2023-04-17T17:49:09.561020Z",
     "shell.execute_reply.started": "2023-04-17T17:49:09.546025Z"
    },
    "tags": []
   },
   "outputs": [
    {
     "name": "stdout",
     "output_type": "stream",
     "text": [
      "hidden layer2: [0.    1.    0.119 0.731]\n",
      "output layer2: [0.684 0.713]\n"
     ]
    }
   ],
   "source": [
    "i2 = np.array([-2,3,1,0])\n",
    "hidden2 = sigmoid(np.dot(i2,W1)+b1)\n",
    "output2 = sigmoid(np.dot(hidden2,W2)+b2)\n",
    "print(\"hidden layer2:\", np.round(hidden2,3))\n",
    "print(\"output layer2:\", np.round(output2,3))"
   ]
  },
  {
   "cell_type": "markdown",
   "id": "4fae157b-c922-4293-8bf7-34866165e052",
   "metadata": {},
   "source": [
    "* (iii) (1,0,1,1)"
   ]
  },
  {
   "cell_type": "code",
   "execution_count": 24,
   "id": "e3ab5ecd-dae0-458d-8b7e-33bf3b32d6ed",
   "metadata": {
    "execution": {
     "iopub.execute_input": "2023-04-17T18:05:55.487548Z",
     "iopub.status.busy": "2023-04-17T18:05:55.487548Z",
     "iopub.status.idle": "2023-04-17T18:05:55.510537Z",
     "shell.execute_reply": "2023-04-17T18:05:55.509537Z",
     "shell.execute_reply.started": "2023-04-17T18:05:55.487548Z"
    }
   },
   "outputs": [
    {
     "name": "stdout",
     "output_type": "stream",
     "text": [
      "hidden layer3 [0.999 0.002 0.119 0.881]\n",
      "output layer3 [0.628 0.853]\n"
     ]
    }
   ],
   "source": [
    "i3 = np.array([1,0,1,1])\n",
    "hidden3 = sigmoid(np.dot(i3,W1)+b1)\n",
    "output3 = sigmoid(np.dot(hidden3, W2)+b2)\n",
    "print(\"hidden layer3\", np.round(hidden3,3))\n",
    "print(\"output layer3\", np.round(output3,3))"
   ]
  },
  {
   "cell_type": "markdown",
   "id": "c0b93595-8e1a-4d04-bb89-0f05d7d6934e",
   "metadata": {},
   "source": [
    "#### (b) activation funtion relu at each node"
   ]
  },
  {
   "cell_type": "code",
   "execution_count": 26,
   "id": "d11b25ed-89be-4b39-a132-0bdba2133167",
   "metadata": {
    "execution": {
     "iopub.execute_input": "2023-04-17T18:07:39.237842Z",
     "iopub.status.busy": "2023-04-17T18:07:39.236842Z",
     "iopub.status.idle": "2023-04-17T18:07:39.258848Z",
     "shell.execute_reply": "2023-04-17T18:07:39.257845Z",
     "shell.execute_reply.started": "2023-04-17T18:07:39.237842Z"
    },
    "tags": []
   },
   "outputs": [],
   "source": [
    "def relu(x):\n",
    "    return np.maximum(0,x)"
   ]
  },
  {
   "cell_type": "code",
   "execution_count": 27,
   "id": "1e783aae-14c3-44f2-94cc-8632ceb9fb38",
   "metadata": {
    "execution": {
     "iopub.execute_input": "2023-04-17T18:08:48.381190Z",
     "iopub.status.busy": "2023-04-17T18:08:48.380192Z",
     "iopub.status.idle": "2023-04-17T18:08:48.396192Z",
     "shell.execute_reply": "2023-04-17T18:08:48.395191Z",
     "shell.execute_reply.started": "2023-04-17T18:08:48.381190Z"
    }
   },
   "outputs": [
    {
     "name": "stdout",
     "output_type": "stream",
     "text": [
      "hidden layer1: [ 0  0 11  0]\n",
      "output layer1: [9 0]\n"
     ]
    }
   ],
   "source": [
    "hidden1 = relu(np.dot(i1,W1)+b1)\n",
    "output1 = relu(np.dot(hidden1,W2)+b2)\n",
    "print(\"hidden layer1:\", np.round(hidden1,3))\n",
    "print(\"output layer1:\", np.round(output1,3))"
   ]
  },
  {
   "cell_type": "code",
   "execution_count": 28,
   "id": "baa3a739-686f-4b7b-9527-43ed33071619",
   "metadata": {
    "execution": {
     "iopub.execute_input": "2023-04-17T18:09:15.762547Z",
     "iopub.status.busy": "2023-04-17T18:09:15.761551Z",
     "iopub.status.idle": "2023-04-17T18:09:15.778550Z",
     "shell.execute_reply": "2023-04-17T18:09:15.777551Z",
     "shell.execute_reply.started": "2023-04-17T18:09:15.762547Z"
    }
   },
   "outputs": [
    {
     "name": "stdout",
     "output_type": "stream",
     "text": [
      "hidden layer2: [ 0 27  0  1]\n",
      "output layer2: [0 1]\n"
     ]
    }
   ],
   "source": [
    "i2 = np.array([-2,3,1,0])\n",
    "hidden2 = relu(np.dot(i2,W1)+b1)\n",
    "output2 = relu(np.dot(hidden2,W2)+b2)\n",
    "print(\"hidden layer2:\", np.round(hidden2,3))\n",
    "print(\"output layer2:\", np.round(output2,3))"
   ]
  },
  {
   "cell_type": "code",
   "execution_count": 30,
   "id": "10250dfb-e3e4-4a4a-bb75-1a6e60ff13e7",
   "metadata": {
    "execution": {
     "iopub.execute_input": "2023-04-17T18:10:08.019453Z",
     "iopub.status.busy": "2023-04-17T18:10:08.019453Z",
     "iopub.status.idle": "2023-04-17T18:10:08.038446Z",
     "shell.execute_reply": "2023-04-17T18:10:08.037450Z",
     "shell.execute_reply.started": "2023-04-17T18:10:08.019453Z"
    },
    "tags": []
   },
   "outputs": [
    {
     "name": "stdout",
     "output_type": "stream",
     "text": [
      "hidden layer3 [7 0 0 2]\n",
      "output layer3 [0 7]\n"
     ]
    }
   ],
   "source": [
    "i3 = np.array([1,0,1,1])\n",
    "hidden3 = relu(np.dot(i3,W1)+b1)\n",
    "output3 = relu(np.dot(hidden3, W2)+b2)\n",
    "print(\"hidden layer3\", np.round(hidden3,3))\n",
    "print(\"output layer3\", np.round(output3,3))"
   ]
  },
  {
   "cell_type": "markdown",
   "id": "80c148b4-c106-44f4-960f-02f6604a5588",
   "metadata": {},
   "source": [
    "##### (c) use relu at hidden layer, and sigmoid at output"
   ]
  },
  {
   "cell_type": "code",
   "execution_count": 31,
   "id": "2e7ae4aa-2484-4b1c-b8a2-fa4ab1db95c3",
   "metadata": {
    "execution": {
     "iopub.execute_input": "2023-04-17T18:10:50.093425Z",
     "iopub.status.busy": "2023-04-17T18:10:50.093425Z",
     "iopub.status.idle": "2023-04-17T18:10:50.108436Z",
     "shell.execute_reply": "2023-04-17T18:10:50.107436Z",
     "shell.execute_reply.started": "2023-04-17T18:10:50.093425Z"
    }
   },
   "outputs": [
    {
     "name": "stdout",
     "output_type": "stream",
     "text": [
      "hidden layer1: [ 0  0 11  0]\n",
      "output layer1: [1. 0.]\n"
     ]
    }
   ],
   "source": [
    "hidden1 = relu(np.dot(i1,W1)+b1)\n",
    "output1 = sigmoid(np.dot(hidden1,W2)+b2)\n",
    "print(\"hidden layer1:\", np.round(hidden1,3))\n",
    "print(\"output layer1:\", np.round(output1,3))"
   ]
  },
  {
   "cell_type": "code",
   "execution_count": 32,
   "id": "446fbc8e-8959-4d4a-929a-ebf2b5e1844c",
   "metadata": {
    "execution": {
     "iopub.execute_input": "2023-04-17T18:11:10.384192Z",
     "iopub.status.busy": "2023-04-17T18:11:10.383185Z",
     "iopub.status.idle": "2023-04-17T18:11:10.400184Z",
     "shell.execute_reply": "2023-04-17T18:11:10.399188Z",
     "shell.execute_reply.started": "2023-04-17T18:11:10.384192Z"
    }
   },
   "outputs": [
    {
     "name": "stdout",
     "output_type": "stream",
     "text": [
      "hidden layer2: [ 0 27  0  1]\n",
      "output layer2: [0.    0.731]\n"
     ]
    }
   ],
   "source": [
    "i2 = np.array([-2,3,1,0])\n",
    "hidden2 = relu(np.dot(i2,W1)+b1)\n",
    "output2 = sigmoid(np.dot(hidden2,W2)+b2)\n",
    "print(\"hidden layer2:\", np.round(hidden2,3))\n",
    "print(\"output layer2:\", np.round(output2,3))"
   ]
  },
  {
   "cell_type": "code",
   "execution_count": 34,
   "id": "7beac865-8c85-44ad-b0a6-bc529c5eafe3",
   "metadata": {
    "execution": {
     "iopub.execute_input": "2023-04-17T18:11:31.928824Z",
     "iopub.status.busy": "2023-04-17T18:11:31.928824Z",
     "iopub.status.idle": "2023-04-17T18:11:31.943831Z",
     "shell.execute_reply": "2023-04-17T18:11:31.942836Z",
     "shell.execute_reply.started": "2023-04-17T18:11:31.928824Z"
    },
    "tags": []
   },
   "outputs": [
    {
     "name": "stdout",
     "output_type": "stream",
     "text": [
      "hidden layer3 [7 0 0 2]\n",
      "output layer3 [0.002 0.999]\n"
     ]
    }
   ],
   "source": [
    "i3 = np.array([1,0,1,1])\n",
    "hidden3 = relu(np.dot(i3,W1)+b1)\n",
    "output3 = sigmoid(np.dot(hidden3, W2)+b2)\n",
    "print(\"hidden layer3\", np.round(hidden3,3))\n",
    "print(\"output layer3\", np.round(output3,3))"
   ]
  },
  {
   "cell_type": "markdown",
   "id": "c57263aa-7157-4415-a54c-6e12888b1404",
   "metadata": {},
   "source": [
    "##### (2) Consider a network with 2 inputs, 3 nodes in first hidden layer, 3 nodes in second  hidden layer, and 2 outputs nodes"
   ]
  },
  {
   "cell_type": "code",
   "execution_count": 35,
   "id": "c8280d6b-8788-435d-b8bc-9088c74b28cf",
   "metadata": {
    "execution": {
     "iopub.execute_input": "2023-04-17T18:17:39.733376Z",
     "iopub.status.busy": "2023-04-17T18:17:39.733376Z",
     "iopub.status.idle": "2023-04-17T18:17:39.747379Z",
     "shell.execute_reply": "2023-04-17T18:17:39.746378Z",
     "shell.execute_reply.started": "2023-04-17T18:17:39.733376Z"
    }
   },
   "outputs": [],
   "source": [
    "W_1 = np.array([[1,-1,0],[-2,4,-1]])\n",
    "W_2 = np.array([[2,0,-1],[1,-2,-3],[5,0,0]])\n",
    "W_3 = np.array([[0,2],[-1,-1],[4,-3]])\n",
    "b_1 = np.array([0,-3,2])\n",
    "b_2 = np.array([3,3,-1])\n",
    "b_3 = np.array([0,1])"
   ]
  },
  {
   "cell_type": "markdown",
   "id": "79e3c616-8374-4151-8fbe-1cf8c26d1fd0",
   "metadata": {},
   "source": [
    "* use relu function\n",
    "* (i) (1,-1)"
   ]
  },
  {
   "cell_type": "code",
   "execution_count": 42,
   "id": "c653fd61-78c9-4a96-8338-d23ae1d8a0f1",
   "metadata": {
    "execution": {
     "iopub.execute_input": "2023-04-17T18:53:21.769432Z",
     "iopub.status.busy": "2023-04-17T18:53:21.769432Z",
     "iopub.status.idle": "2023-04-17T18:53:21.786432Z",
     "shell.execute_reply": "2023-04-17T18:53:21.785433Z",
     "shell.execute_reply.started": "2023-04-17T18:53:21.769432Z"
    },
    "tags": []
   },
   "outputs": [],
   "source": [
    "input_i = np.array([1,-1])"
   ]
  },
  {
   "cell_type": "code",
   "execution_count": 43,
   "id": "eebeed12-5c8b-44e7-90a3-73a0e43aff7b",
   "metadata": {
    "execution": {
     "iopub.execute_input": "2023-04-17T18:53:26.285170Z",
     "iopub.status.busy": "2023-04-17T18:53:26.284184Z",
     "iopub.status.idle": "2023-04-17T18:53:26.294172Z",
     "shell.execute_reply": "2023-04-17T18:53:26.293174Z",
     "shell.execute_reply.started": "2023-04-17T18:53:26.285170Z"
    },
    "tags": []
   },
   "outputs": [],
   "source": [
    "layer1_inp = input_i\n",
    "layer1_output = relu(np.dot(layer1_inp, W_1) +b_1)\n",
    "layer2_output  = relu(np.dot(layer1_output, W_2)+ b_2)\n",
    "output = relu(np.dot(layer2_output, W_3) + b_3)"
   ]
  },
  {
   "cell_type": "code",
   "execution_count": 44,
   "id": "fda9b0a8-4cee-4e20-bab5-800f3c26fed3",
   "metadata": {
    "execution": {
     "iopub.execute_input": "2023-04-17T18:53:27.456438Z",
     "iopub.status.busy": "2023-04-17T18:53:27.456438Z",
     "iopub.status.idle": "2023-04-17T18:53:27.473435Z",
     "shell.execute_reply": "2023-04-17T18:53:27.472437Z",
     "shell.execute_reply.started": "2023-04-17T18:53:27.456438Z"
    },
    "tags": []
   },
   "outputs": [
    {
     "data": {
      "text/plain": [
       "array([ 0, 46])"
      ]
     },
     "execution_count": 44,
     "metadata": {},
     "output_type": "execute_result"
    }
   ],
   "source": [
    "output"
   ]
  },
  {
   "cell_type": "markdown",
   "id": "2e034863-09d9-4674-8228-e3008ea4938f",
   "metadata": {},
   "source": [
    "* (ii) (3,-2)"
   ]
  },
  {
   "cell_type": "code",
   "execution_count": 45,
   "id": "ea143b95-f442-44b8-b1f6-32c28fab80a6",
   "metadata": {
    "execution": {
     "iopub.execute_input": "2023-04-17T19:44:11.486707Z",
     "iopub.status.busy": "2023-04-17T19:44:11.482713Z",
     "iopub.status.idle": "2023-04-17T19:44:11.527433Z",
     "shell.execute_reply": "2023-04-17T19:44:11.525428Z",
     "shell.execute_reply.started": "2023-04-17T19:44:11.486707Z"
    }
   },
   "outputs": [
    {
     "data": {
      "text/plain": [
       "array([ 0, 72])"
      ]
     },
     "execution_count": 45,
     "metadata": {},
     "output_type": "execute_result"
    }
   ],
   "source": [
    "input_ii = np.array([3,-2])\n",
    "layer1_output = relu(np.dot(input_ii, W_1) +b_1)\n",
    "layer2_output  = relu(np.dot(layer1_output, W_2)+ b_2)\n",
    "output_ii = relu(np.dot(layer2_output, W_3) + b_3)\n",
    "output_ii"
   ]
  },
  {
   "cell_type": "markdown",
   "id": "a2ce46ef-73bd-4c62-84d9-ca884e06e3be",
   "metadata": {},
   "source": [
    "#### (b) Using sigmoid function for the same inputs as  above"
   ]
  },
  {
   "cell_type": "code",
   "execution_count": 47,
   "id": "5d593738-6b71-45b5-888d-48a9f6e9b01c",
   "metadata": {
    "execution": {
     "iopub.execute_input": "2023-04-17T19:48:19.934434Z",
     "iopub.status.busy": "2023-04-17T19:48:19.934434Z",
     "iopub.status.idle": "2023-04-17T19:48:19.957431Z",
     "shell.execute_reply": "2023-04-17T19:48:19.955436Z",
     "shell.execute_reply.started": "2023-04-17T19:48:19.934434Z"
    },
    "tags": []
   },
   "outputs": [
    {
     "data": {
      "text/plain": [
       "array([0.38796133, 0.84221994])"
      ]
     },
     "execution_count": 47,
     "metadata": {},
     "output_type": "execute_result"
    }
   ],
   "source": [
    "layer1_inp = input_i\n",
    "layer1_output = sigmoid(np.dot(layer1_inp, W_1) +b_1)\n",
    "layer2_output  = sigmoid(np.dot(layer1_output, W_2)+ b_2)\n",
    "output = sigmoid(np.dot(layer2_output, W_3) + b_3)\n",
    "output"
   ]
  },
  {
   "cell_type": "code",
   "execution_count": 48,
   "id": "cac697fb-79f0-4d95-8ec4-b03608a46384",
   "metadata": {
    "execution": {
     "iopub.execute_input": "2023-04-17T19:48:53.666527Z",
     "iopub.status.busy": "2023-04-17T19:48:53.665530Z",
     "iopub.status.idle": "2023-04-17T19:48:53.686523Z",
     "shell.execute_reply": "2023-04-17T19:48:53.685528Z",
     "shell.execute_reply.started": "2023-04-17T19:48:53.666527Z"
    }
   },
   "outputs": [
    {
     "data": {
      "text/plain": [
       "array([0.38334351, 0.84414937])"
      ]
     },
     "execution_count": 48,
     "metadata": {},
     "output_type": "execute_result"
    }
   ],
   "source": [
    "input_ii = np.array([3,-2])\n",
    "layer1_output = sigmoid(np.dot(input_ii, W_1) +b_1)\n",
    "layer2_output  = sigmoid(np.dot(layer1_output, W_2)+ b_2)\n",
    "output_ii = sigmoid(np.dot(layer2_output, W_3) + b_3)\n",
    "output_ii"
   ]
  }
 ],
 "metadata": {
  "kernelspec": {
   "display_name": "Python 3 (ipykernel)",
   "language": "python",
   "name": "python3"
  },
  "language_info": {
   "codemirror_mode": {
    "name": "ipython",
    "version": 3
   },
   "file_extension": ".py",
   "mimetype": "text/x-python",
   "name": "python",
   "nbconvert_exporter": "python",
   "pygments_lexer": "ipython3",
   "version": "3.8.8"
  },
  "widgets": {
   "application/vnd.jupyter.widget-state+json": {
    "state": {},
    "version_major": 2,
    "version_minor": 0
   }
  }
 },
 "nbformat": 4,
 "nbformat_minor": 5
}
