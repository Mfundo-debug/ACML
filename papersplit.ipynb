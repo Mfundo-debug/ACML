{
 "cells": [
  {
   "cell_type": "code",
   "execution_count": 7,
   "id": "183eee07-208c-4821-b561-2a05af295c72",
   "metadata": {
    "execution": {
     "iopub.execute_input": "2023-04-12T03:56:39.990242Z",
     "iopub.status.busy": "2023-04-12T03:56:39.990242Z",
     "iopub.status.idle": "2023-04-12T03:56:40.001779Z",
     "shell.execute_reply": "2023-04-12T03:56:40.000779Z",
     "shell.execute_reply.started": "2023-04-12T03:56:39.990242Z"
    },
    "tags": []
   },
   "outputs": [],
   "source": [
    "import os\n",
    "from PyPDF2 import PdfReader, PdfWriter"
   ]
  },
  {
   "cell_type": "code",
   "execution_count": 22,
   "id": "30026850-6a0e-42e9-8d08-303504e6c7ff",
   "metadata": {
    "execution": {
     "iopub.execute_input": "2023-04-12T04:26:36.929854Z",
     "iopub.status.busy": "2023-04-12T04:26:36.929854Z",
     "iopub.status.idle": "2023-04-12T04:26:36.956857Z",
     "shell.execute_reply": "2023-04-12T04:26:36.955852Z",
     "shell.execute_reply.started": "2023-04-12T04:26:36.929854Z"
    },
    "tags": []
   },
   "outputs": [
    {
     "name": "stdout",
     "output_type": "stream",
     "text": [
      "PDF split into two parts: academic_except_last.pdf, academic_last_page.pdf\n"
     ]
    }
   ],
   "source": [
    "# set the file path for the PDF you want to split\n",
    "pdf_file_path = \"academic.pdf\"\n",
    "\n",
    "# create a PdfFileReader object to read the PDF\n",
    "pdf_reader = PdfReader(pdf_file_path)\n",
    "\n",
    "# create a PdfFileWriter object to write the output PDFs\n",
    "pdf_writer1 = PdfWriter()\n",
    "pdf_writer2 = PdfWriter()\n",
    "\n",
    "# iterate over all pages except the last one, and add them to the first output PDF\n",
    "for page_num in range(len(pdf_reader.pages) - 1):\n",
    "    page = pdf_reader.pages[page_num]\n",
    "    pdf_writer1.add_page(page)\n",
    "\n",
    "# add the last page to the second output PDF\n",
    "last_page = pdf_reader.pages[-1]\n",
    "pdf_writer2.add_page(last_page)\n",
    "\n",
    "# write the output PDFs to files\n",
    "output_filename1 = os.path.splitext(pdf_file_path)[0] + \"_except_last.pdf\"\n",
    "output_filename2 = os.path.splitext(pdf_file_path)[0] + \"_last_page.pdf\"\n",
    "\n",
    "with open(output_filename1, \"wb\") as out_file:\n",
    "    pdf_writer1.write(out_file)\n",
    "\n",
    "with open(output_filename2, \"wb\") as out_file:\n",
    "    pdf_writer2.write(out_file)\n",
    "\n",
    "print(f\"PDF split into two parts: {output_filename1}, {output_filename2}\")"
   ]
  },
  {
   "cell_type": "code",
   "execution_count": null,
   "id": "02c3de9f-54d4-445b-9ac5-fea6641ecde3",
   "metadata": {},
   "outputs": [],
   "source": []
  }
 ],
 "metadata": {
  "kernelspec": {
   "display_name": "Python 3 (ipykernel)",
   "language": "python",
   "name": "python3"
  },
  "language_info": {
   "codemirror_mode": {
    "name": "ipython",
    "version": 3
   },
   "file_extension": ".py",
   "mimetype": "text/x-python",
   "name": "python",
   "nbconvert_exporter": "python",
   "pygments_lexer": "ipython3",
   "version": "3.8.8"
  },
  "widgets": {
   "application/vnd.jupyter.widget-state+json": {
    "state": {},
    "version_major": 2,
    "version_minor": 0
   }
  }
 },
 "nbformat": 4,
 "nbformat_minor": 5
}
