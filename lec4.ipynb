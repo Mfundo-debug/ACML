{
 "cells": [
  {
   "cell_type": "code",
   "execution_count": 1,
   "id": "f123b159-de82-43aa-bee7-6ffc11b45edd",
   "metadata": {
    "execution": {
     "iopub.execute_input": "2023-04-18T12:07:38.105447Z",
     "iopub.status.busy": "2023-04-18T12:07:38.105447Z",
     "iopub.status.idle": "2023-04-18T12:07:38.369830Z",
     "shell.execute_reply": "2023-04-18T12:07:38.369830Z",
     "shell.execute_reply.started": "2023-04-18T12:07:38.105447Z"
    }
   },
   "outputs": [],
   "source": [
    "import numpy as np"
   ]
  },
  {
   "cell_type": "markdown",
   "id": "77f1960a-e180-4d5c-9bdd-6a825f16a43b",
   "metadata": {},
   "source": [
    "#### softmax activation function\n",
    "\n",
    "$$softmax(n_{i})=\\frac{e^{z_{ni}}}{\\sum_{j=1}^{k} e^{z_{nj}}}$$"
   ]
  },
  {
   "cell_type": "code",
   "execution_count": 2,
   "id": "74727c97-13cf-402b-bfbe-ee6b8b9b76f6",
   "metadata": {
    "execution": {
     "iopub.execute_input": "2023-04-18T12:09:48.297067Z",
     "iopub.status.busy": "2023-04-18T12:09:48.297067Z",
     "iopub.status.idle": "2023-04-18T12:09:48.321064Z",
     "shell.execute_reply": "2023-04-18T12:09:48.321064Z",
     "shell.execute_reply.started": "2023-04-18T12:09:48.297067Z"
    }
   },
   "outputs": [],
   "source": [
    "def softmax(x):\n",
    "    exp_x = np.exp(x - np.max(x))\n",
    "    return exp_x / np.sum(exp_x)"
   ]
  },
  {
   "cell_type": "markdown",
   "id": "25f9786c-3293-46ec-9c4e-b5383612a802",
   "metadata": {},
   "source": [
    "* Example"
   ]
  },
  {
   "cell_type": "code",
   "execution_count": 4,
   "id": "12bca3b6-d019-4cd7-9573-aa4b931dbf03",
   "metadata": {
    "execution": {
     "iopub.execute_input": "2023-04-18T12:18:36.848528Z",
     "iopub.status.busy": "2023-04-18T12:18:36.848528Z",
     "iopub.status.idle": "2023-04-18T12:18:36.872543Z",
     "shell.execute_reply": "2023-04-18T12:18:36.872543Z",
     "shell.execute_reply.started": "2023-04-18T12:18:36.848528Z"
    }
   },
   "outputs": [
    {
     "data": {
      "text/plain": [
       "array([0.62200588, 0.08417934, 0.29381477])"
      ]
     },
     "execution_count": 4,
     "metadata": {},
     "output_type": "execute_result"
    }
   ],
   "source": [
    "z = np.array([1.5, -0.5, 0.75])\n",
    "softmax(z)"
   ]
  },
  {
   "cell_type": "markdown",
   "id": "52395c90-4f91-43a3-9f19-4b96c5bd6b90",
   "metadata": {},
   "source": [
    "##### Exercises\n",
    "* (1) Suppose a neural netowrk has 5 output nodes $n_1,\\dots,n_5$\n",
    "\n",
    "* (a) $ z_{n1} = 3, z_{n2} = 5, z_{n_3}=0.5, z_{n4}=-2, z_{n5} =1.7$"
   ]
  },
  {
   "cell_type": "code",
   "execution_count": 5,
   "id": "f6518001-6f79-4aa0-b0f2-7a125d402e23",
   "metadata": {
    "execution": {
     "iopub.execute_input": "2023-04-18T12:23:09.347163Z",
     "iopub.status.busy": "2023-04-18T12:23:09.347163Z",
     "iopub.status.idle": "2023-04-18T12:23:09.371438Z",
     "shell.execute_reply": "2023-04-18T12:23:09.371438Z",
     "shell.execute_reply.started": "2023-04-18T12:23:09.347163Z"
    }
   },
   "outputs": [
    {
     "data": {
      "text/plain": [
       "array([1.14280348e-01, 8.44423906e-01, 9.38070225e-03, 7.70014931e-04,\n",
       "       3.11450283e-02])"
      ]
     },
     "execution_count": 5,
     "metadata": {},
     "output_type": "execute_result"
    }
   ],
   "source": [
    "z_a = np.array([3,5,0.5,-2,1.7])\n",
    "softmax(z_a)"
   ]
  },
  {
   "cell_type": "markdown",
   "id": "0a1f31ee-62bb-4752-ab2a-8407e4bfba49",
   "metadata": {},
   "source": [
    "* (b) $ z_{n1} = -2, z_{n2} = -5, z_{n_3}=-0.5, z_{n4}=0.1, z_{n5} = -1.5$"
   ]
  },
  {
   "cell_type": "code",
   "execution_count": 6,
   "id": "34a2f664-72ce-437a-a178-0bba02227813",
   "metadata": {
    "execution": {
     "iopub.execute_input": "2023-04-18T12:26:17.154474Z",
     "iopub.status.busy": "2023-04-18T12:26:17.154474Z",
     "iopub.status.idle": "2023-04-18T12:26:17.178983Z",
     "shell.execute_reply": "2023-04-18T12:26:17.178983Z",
     "shell.execute_reply.started": "2023-04-18T12:26:17.154474Z"
    }
   },
   "outputs": [
    {
     "data": {
      "text/plain": [
       "array([0.065162  , 0.00324422, 0.29203583, 0.53212397, 0.10743398])"
      ]
     },
     "execution_count": 6,
     "metadata": {},
     "output_type": "execute_result"
    }
   ],
   "source": [
    "z_b = np.array([-2, -5, -.5, 0.1, -1.5])\n",
    "softmax(z_b)"
   ]
  },
  {
   "cell_type": "markdown",
   "id": "e8a14540-d8d0-4123-afcf-2aeb7bb7a378",
   "metadata": {},
   "source": [
    "* (c) $z_{n1} = 0, z_{n2} =0.2, z_{n_3}= -0.1, z_{n4}=0.1, z_{n5} =-0.7$"
   ]
  },
  {
   "cell_type": "code",
   "execution_count": 7,
   "id": "7e026b98-5335-4ffc-a0dd-d35e324165c7",
   "metadata": {
    "execution": {
     "iopub.execute_input": "2023-04-18T12:28:05.695010Z",
     "iopub.status.busy": "2023-04-18T12:28:05.695010Z",
     "iopub.status.idle": "2023-04-18T12:28:05.719467Z",
     "shell.execute_reply": "2023-04-18T12:28:05.719467Z",
     "shell.execute_reply.started": "2023-04-18T12:28:05.695010Z"
    }
   },
   "outputs": [
    {
     "data": {
      "text/plain": [
       "array([0.21150608, 0.25833411, 0.19137862, 0.23375037, 0.10503081])"
      ]
     },
     "execution_count": 7,
     "metadata": {},
     "output_type": "execute_result"
    }
   ],
   "source": [
    "z_c = np.array([0,0.2,-0.1,0.1, -0.7])\n",
    "softmax(z_c)"
   ]
  },
  {
   "cell_type": "markdown",
   "id": "5bf2970c-499e-4afc-91b2-3c0e996c1f72",
   "metadata": {},
   "source": [
    "### Cross-entropy loss function\n",
    "\n",
    "$$ L_{CE}(y,t) = -\\sum_{i=1}^{k} t_{i}\\ln(y_i)$$"
   ]
  },
  {
   "cell_type": "code",
   "execution_count": 8,
   "id": "bba60a0f-ed00-4b77-9399-f3d8ef266c1f",
   "metadata": {
    "execution": {
     "iopub.execute_input": "2023-04-18T12:34:27.730059Z",
     "iopub.status.busy": "2023-04-18T12:34:27.730059Z",
     "iopub.status.idle": "2023-04-18T12:34:27.754601Z",
     "shell.execute_reply": "2023-04-18T12:34:27.754601Z",
     "shell.execute_reply.started": "2023-04-18T12:34:27.730059Z"
    }
   },
   "outputs": [],
   "source": [
    "def cross_entropy_loss(y_pred,y_true):\n",
    "    y_pred = np.clip(y_pred, 1e-15, 1 - 1e-15)\n",
    "    loss = -np.sum(y_true * np.log(y_pred) + (1 - y_true) * np.log(1 - y_pred))\n",
    "    return loss"
   ]
  },
  {
   "cell_type": "markdown",
   "id": "fb7d6b8b-7a8e-4efd-8084-c0f249f65482",
   "metadata": {},
   "source": [
    "* (2) Compute $L_{CE}(y,t)$ for the following probability distributions\n",
    "* (i) $y = (0.5, 0.3, 0.2),t = ( 1, 0, 0)$"
   ]
  },
  {
   "cell_type": "code",
   "execution_count": 9,
   "id": "19bb20b6-c926-4cbe-b548-4f13ce4c38e3",
   "metadata": {
    "execution": {
     "iopub.execute_input": "2023-04-18T12:34:27.754601Z",
     "iopub.status.busy": "2023-04-18T12:34:27.754601Z",
     "iopub.status.idle": "2023-04-18T12:34:27.786605Z",
     "shell.execute_reply": "2023-04-18T12:34:27.786605Z",
     "shell.execute_reply.started": "2023-04-18T12:34:27.754601Z"
    }
   },
   "outputs": [
    {
     "data": {
      "text/plain": [
       "1.2729656758128876"
      ]
     },
     "execution_count": 9,
     "metadata": {},
     "output_type": "execute_result"
    }
   ],
   "source": [
    "y_i = np.array([0.5, 0.3,0.2])\n",
    "t_i = np.array([1,0,0])\n",
    "cross_entropy_loss(y_i,t_i)"
   ]
  },
  {
   "cell_type": "code",
   "execution_count": 10,
   "id": "4afcefe4-9b5d-4348-9425-1d17bcad84fe",
   "metadata": {
    "execution": {
     "iopub.execute_input": "2023-04-18T12:37:48.949039Z",
     "iopub.status.busy": "2023-04-18T12:37:48.949039Z",
     "iopub.status.idle": "2023-04-18T12:37:48.973469Z",
     "shell.execute_reply": "2023-04-18T12:37:48.973469Z",
     "shell.execute_reply.started": "2023-04-18T12:37:48.949039Z"
    }
   },
   "outputs": [],
   "source": [
    "def ce_loss(y, t):\n",
    "    loss = -np.sum(t * np.log(y)+ (1-t) * np.log(1 - y))\n",
    "    return loss"
   ]
  },
  {
   "cell_type": "code",
   "execution_count": 11,
   "id": "bbb9141a-b07a-4e0b-816f-59aa667f4a47",
   "metadata": {
    "execution": {
     "iopub.execute_input": "2023-04-18T12:38:01.849040Z",
     "iopub.status.busy": "2023-04-18T12:38:01.841098Z",
     "iopub.status.idle": "2023-04-18T12:38:01.859225Z",
     "shell.execute_reply": "2023-04-18T12:38:01.857721Z",
     "shell.execute_reply.started": "2023-04-18T12:38:01.849040Z"
    }
   },
   "outputs": [
    {
     "data": {
      "text/plain": [
       "1.2729656758128876"
      ]
     },
     "execution_count": 11,
     "metadata": {},
     "output_type": "execute_result"
    }
   ],
   "source": [
    "ce_loss(y_i,t_i)"
   ]
  },
  {
   "cell_type": "markdown",
   "id": "5dba5d74-6405-4652-8dfd-8ff36e493b5f",
   "metadata": {},
   "source": [
    "* (ii) $y = (0.5, 0.3, 0.2),t = (0, 1, 0)$"
   ]
  },
  {
   "cell_type": "code",
   "execution_count": 12,
   "id": "c0afb3c9-f107-4f6f-849c-a0a97bdbce9d",
   "metadata": {
    "execution": {
     "iopub.execute_input": "2023-04-18T12:43:07.018303Z",
     "iopub.status.busy": "2023-04-18T12:43:07.018303Z",
     "iopub.status.idle": "2023-04-18T12:43:07.042043Z",
     "shell.execute_reply": "2023-04-18T12:43:07.042043Z",
     "shell.execute_reply.started": "2023-04-18T12:43:07.018303Z"
    }
   },
   "outputs": [
    {
     "data": {
      "text/plain": [
       "2.120263536200091"
      ]
     },
     "execution_count": 12,
     "metadata": {},
     "output_type": "execute_result"
    }
   ],
   "source": [
    "y_ii = np.array([0.5, 0.3, 0.2])\n",
    "t_ii = np.array([0,1,0])\n",
    "ce_loss(y_ii, t_ii)"
   ]
  },
  {
   "cell_type": "markdown",
   "id": "938d074c-e81e-4215-96a6-ae5535217a49",
   "metadata": {},
   "source": [
    "* (iii) $y = (0.5, 0.3, 0.2),t = ( 0, 0, 1)$"
   ]
  },
  {
   "cell_type": "code",
   "execution_count": 13,
   "id": "f202b2cc-b323-482c-bb43-05e9fc6b058b",
   "metadata": {
    "execution": {
     "iopub.execute_input": "2023-04-18T12:44:43.605339Z",
     "iopub.status.busy": "2023-04-18T12:44:43.605339Z",
     "iopub.status.idle": "2023-04-18T12:44:43.637546Z",
     "shell.execute_reply": "2023-04-18T12:44:43.637546Z",
     "shell.execute_reply.started": "2023-04-18T12:44:43.605339Z"
    }
   },
   "outputs": [
    {
     "data": {
      "text/plain": [
       "2.6592600369327783"
      ]
     },
     "execution_count": 13,
     "metadata": {},
     "output_type": "execute_result"
    }
   ],
   "source": [
    "y_iii = np.array([0.5,0.3,0.2])\n",
    "t_iii = np.array([0,0,1])\n",
    "ce_loss(y_iii,t_iii)"
   ]
  },
  {
   "cell_type": "markdown",
   "id": "e677f576-41a8-4068-8002-d87e6f268a7f",
   "metadata": {},
   "source": [
    "* (iv)$y = (0.1, 0.2, 0.7),t = ( 0.3, 0.3, 0.4)$"
   ]
  },
  {
   "cell_type": "code",
   "execution_count": 14,
   "id": "47edf35f-090e-4b23-88d2-ad2eab59ee5f",
   "metadata": {
    "execution": {
     "iopub.execute_input": "2023-04-18T12:49:11.702158Z",
     "iopub.status.busy": "2023-04-18T12:49:11.694140Z",
     "iopub.status.idle": "2023-04-18T12:49:11.718481Z",
     "shell.execute_reply": "2023-04-18T12:49:11.718481Z",
     "shell.execute_reply.started": "2023-04-18T12:49:11.702158Z"
    }
   },
   "outputs": [
    {
     "data": {
      "text/plain": [
       "2.2686134086799234"
      ]
     },
     "execution_count": 14,
     "metadata": {},
     "output_type": "execute_result"
    }
   ],
   "source": [
    "y_iv = np.array([0.1, 0.2, 0.7])\n",
    "t_iv = np.array([0.3, 0.3, 0.4])\n",
    "ce_loss(y_iv, t_iv)"
   ]
  },
  {
   "cell_type": "markdown",
   "id": "a793f689-4d46-4bff-8f75-21ab68ae3a4d",
   "metadata": {},
   "source": [
    "* (v) $y = (0.1, 0.2, 0.7),t = ( 0.2, 0.2, 0.6)$"
   ]
  },
  {
   "cell_type": "code",
   "execution_count": 15,
   "id": "ad0bb020-c72a-4991-be37-d2dc20266909",
   "metadata": {
    "execution": {
     "iopub.execute_input": "2023-04-18T12:50:53.499248Z",
     "iopub.status.busy": "2023-04-18T12:50:53.499248Z",
     "iopub.status.idle": "2023-04-18T12:50:53.531658Z",
     "shell.execute_reply": "2023-04-18T12:50:53.531658Z",
     "shell.execute_reply.started": "2023-04-18T12:50:53.499248Z"
    }
   },
   "outputs": [
    {
     "data": {
      "text/plain": [
       "1.7408019427568717"
      ]
     },
     "execution_count": 15,
     "metadata": {},
     "output_type": "execute_result"
    }
   ],
   "source": [
    "y_v = np.array([0.1, 0.2, 0.7])\n",
    "t_v = np.array([0.2, 0.2, 0.6])\n",
    "ce_loss(y_v, t_v)"
   ]
  },
  {
   "cell_type": "markdown",
   "id": "d273de69-8bfb-4b60-894f-5b6bcb043286",
   "metadata": {},
   "source": [
    "##### Exercises II\n",
    "\n",
    "\n",
    "* Consider a network with 2 input nodes, one hiden layer with 2 nodes,2 output nodes.\n",
    "* activation function in the hidden layer is sigmoid\n",
    "* output layer uses softmax and targets are ine-hot encoded"
   ]
  },
  {
   "cell_type": "code",
   "execution_count": 16,
   "id": "6f50bf25-025c-4ce8-9039-edc7a6a71e07",
   "metadata": {
    "execution": {
     "iopub.execute_input": "2023-04-18T13:08:37.166865Z",
     "iopub.status.busy": "2023-04-18T13:08:37.166865Z",
     "iopub.status.idle": "2023-04-18T13:08:37.190990Z",
     "shell.execute_reply": "2023-04-18T13:08:37.190990Z",
     "shell.execute_reply.started": "2023-04-18T13:08:37.166865Z"
    }
   },
   "outputs": [],
   "source": [
    "w1 = np.array([[-2,1], [3,0]])\n",
    "w2 = np.array([[2,3], [-1,2]])\n",
    "b1 = np.array([0.5,1.5])\n",
    "b2 = np.array([2,-1])\n",
    "x  = np.array([-1,1])\n",
    "t  = np.array([1,0])"
   ]
  },
  {
   "cell_type": "markdown",
   "id": "c81e0cc5-6010-40f8-a095-a5e7569e5d36",
   "metadata": {},
   "source": [
    "* first feed input into the network to get output and compute the loss"
   ]
  },
  {
   "cell_type": "code",
   "execution_count": 17,
   "id": "61751655-8ddc-4da3-b14d-6de310573b2c",
   "metadata": {
    "execution": {
     "iopub.execute_input": "2023-04-18T13:09:57.904621Z",
     "iopub.status.busy": "2023-04-18T13:09:57.904621Z",
     "iopub.status.idle": "2023-04-18T13:09:57.920781Z",
     "shell.execute_reply": "2023-04-18T13:09:57.918656Z",
     "shell.execute_reply.started": "2023-04-18T13:09:57.904621Z"
    }
   },
   "outputs": [],
   "source": [
    "def sigmoid(x):\n",
    "    return 1 / 1 + np.exp(-x)"
   ]
  },
  {
   "cell_type": "code",
   "execution_count": 18,
   "id": "72db583a-a34d-41e7-817d-f97d2876ba11",
   "metadata": {
    "execution": {
     "iopub.execute_input": "2023-04-18T13:14:02.251599Z",
     "iopub.status.busy": "2023-04-18T13:14:02.251599Z",
     "iopub.status.idle": "2023-04-18T13:14:02.291661Z",
     "shell.execute_reply": "2023-04-18T13:14:02.291661Z",
     "shell.execute_reply.started": "2023-04-18T13:14:02.251599Z"
    }
   },
   "outputs": [
    {
     "name": "stdout",
     "output_type": "stream",
     "text": [
      "Output [0.0561 0.9439]\n"
     ]
    }
   ],
   "source": [
    "hidden_1 = sigmoid(np.dot(x,w1) + b1)\n",
    "output_1 = softmax(np.dot(hidden_1,w2) + b2)\n",
    "print(\"Output\", np.round(output_1,4))"
   ]
  },
  {
   "cell_type": "code",
   "execution_count": 19,
   "id": "bcffd566-41c3-4a3f-8b7d-19cf45058d0f",
   "metadata": {
    "execution": {
     "iopub.execute_input": "2023-04-18T13:16:42.811872Z",
     "iopub.status.busy": "2023-04-18T13:16:42.811872Z",
     "iopub.status.idle": "2023-04-18T13:16:42.819891Z",
     "shell.execute_reply": "2023-04-18T13:16:42.819891Z",
     "shell.execute_reply.started": "2023-04-18T13:16:42.811872Z"
    }
   },
   "outputs": [],
   "source": [
    "def sumofsquares(y,t):\n",
    "    loss_sum = 0.5 * np.sum(np.square(y-t))\n",
    "    return loss_sum"
   ]
  },
  {
   "cell_type": "code",
   "execution_count": 20,
   "id": "c1ee4a5f-3710-4d7d-97c6-1e315d298831",
   "metadata": {
    "execution": {
     "iopub.execute_input": "2023-04-18T13:17:23.091534Z",
     "iopub.status.busy": "2023-04-18T13:17:23.091534Z",
     "iopub.status.idle": "2023-04-18T13:17:23.107601Z",
     "shell.execute_reply": "2023-04-18T13:17:23.107601Z",
     "shell.execute_reply.started": "2023-04-18T13:17:23.091534Z"
    }
   },
   "outputs": [
    {
     "data": {
      "text/plain": [
       "0.8910265888763901"
      ]
     },
     "execution_count": 20,
     "metadata": {},
     "output_type": "execute_result"
    }
   ],
   "source": [
    "sumofsquares(output_1,t)"
   ]
  },
  {
   "cell_type": "markdown",
   "id": "b8676a65-8640-40f7-a4f7-030af5f71b16",
   "metadata": {},
   "source": [
    "* (b) Perform one iteration of backpropagation training with n=0.1"
   ]
  },
  {
   "cell_type": "code",
   "execution_count": 21,
   "id": "f0494694-b83c-4931-858e-b891153235fd",
   "metadata": {
    "execution": {
     "iopub.execute_input": "2023-04-18T13:18:40.529099Z",
     "iopub.status.busy": "2023-04-18T13:18:40.529099Z",
     "iopub.status.idle": "2023-04-18T13:18:40.553438Z",
     "shell.execute_reply": "2023-04-18T13:18:40.553438Z",
     "shell.execute_reply.started": "2023-04-18T13:18:40.529099Z"
    }
   },
   "outputs": [],
   "source": [
    "def sigmoid_dt(x):\n",
    "    return x*(1-x)"
   ]
  },
  {
   "cell_type": "code",
   "execution_count": 22,
   "id": "44b66472-1331-4d65-883d-d34e988c8589",
   "metadata": {
    "execution": {
     "iopub.execute_input": "2023-04-18T13:23:36.991317Z",
     "iopub.status.busy": "2023-04-18T13:23:36.991317Z",
     "iopub.status.idle": "2023-04-18T13:23:37.007629Z",
     "shell.execute_reply": "2023-04-18T13:23:37.007629Z",
     "shell.execute_reply.started": "2023-04-18T13:23:36.991317Z"
    }
   },
   "outputs": [],
   "source": [
    "lr = 0.1\n",
    "delta_err = (output_1 - t) * sigmoid_dt(output_1)\n",
    "hidden_err = np.dot(delta_err, w2.T) * sigmoid_dt(hidden_1)"
   ]
  },
  {
   "cell_type": "code",
   "execution_count": 24,
   "id": "ab570fd8-aa6f-4238-a55a-919904052ce4",
   "metadata": {
    "execution": {
     "iopub.execute_input": "2023-04-18T13:29:24.190212Z",
     "iopub.status.busy": "2023-04-18T13:29:24.190212Z",
     "iopub.status.idle": "2023-04-18T13:29:24.214595Z",
     "shell.execute_reply": "2023-04-18T13:29:24.214595Z",
     "shell.execute_reply.started": "2023-04-18T13:29:24.190212Z"
    }
   },
   "outputs": [],
   "source": [
    "w2 = w2.astype('float64')\n",
    "b2 = b2.astype('float64')\n",
    "w1 = w1.astype('float64')\n",
    "b1 = b1.astype('float64')"
   ]
  },
  {
   "cell_type": "code",
   "execution_count": 25,
   "id": "29db4e92-0d09-4631-894d-457c6002d249",
   "metadata": {
    "execution": {
     "iopub.execute_input": "2023-04-18T13:29:26.810134Z",
     "iopub.status.busy": "2023-04-18T13:29:26.810134Z",
     "iopub.status.idle": "2023-04-18T13:29:26.825812Z",
     "shell.execute_reply": "2023-04-18T13:29:26.825812Z",
     "shell.execute_reply.started": "2023-04-18T13:29:26.810134Z"
    },
    "tags": []
   },
   "outputs": [],
   "source": [
    "w1 -= lr * np.dot(x.T, hidden_err)\n",
    "b1 -= lr * np.sum(hidden_err, axis=0)\n",
    "w2 -= lr * np.dot(hidden_1, delta_err)\n",
    "b2 -= lr * np.sum(delta_err, axis=0)"
   ]
  },
  {
   "cell_type": "code",
   "execution_count": 26,
   "id": "7ed8928d-8907-4421-9c95-02ce258948cb",
   "metadata": {
    "execution": {
     "iopub.execute_input": "2023-04-18T13:29:51.242788Z",
     "iopub.status.busy": "2023-04-18T13:29:51.242788Z",
     "iopub.status.idle": "2023-04-18T13:29:51.267134Z",
     "shell.execute_reply": "2023-04-18T13:29:51.267134Z",
     "shell.execute_reply.started": "2023-04-18T13:29:51.242788Z"
    }
   },
   "outputs": [
    {
     "name": "stdout",
     "output_type": "stream",
     "text": [
      "Updated weights W_1: [[-1.98541922  1.01458078]\n",
      " [ 3.01458078  0.01458078]]\n",
      "Updated weights W_2: [[ 1.99699085  2.99699085]\n",
      " [-1.00300915  1.99699085]]\n",
      "Updated biases b_1: [0.51462178 1.51462178]\n",
      "Updated biases b_2: [ 2. -1.]\n"
     ]
    }
   ],
   "source": [
    "print(\"Updated weights W_1:\", w1)\n",
    "print(\"Updated weights W_2:\", w2)\n",
    "print(\"Updated biases b_1:\", b1)\n",
    "print(\"Updated biases b_2:\", b2)"
   ]
  },
  {
   "cell_type": "markdown",
   "id": "45dfec0f-9034-4bd7-9834-80ba1664c4bb",
   "metadata": {},
   "source": [
    "* Feed the input into network and check for the updated loss"
   ]
  },
  {
   "cell_type": "code",
   "execution_count": 28,
   "id": "281f39b6-0bb6-4585-bfb7-1ddfcbc680d9",
   "metadata": {
    "execution": {
     "iopub.execute_input": "2023-04-18T13:34:12.296579Z",
     "iopub.status.busy": "2023-04-18T13:34:12.296579Z",
     "iopub.status.idle": "2023-04-18T13:34:12.320972Z",
     "shell.execute_reply": "2023-04-18T13:34:12.320972Z",
     "shell.execute_reply.started": "2023-04-18T13:34:12.296579Z"
    },
    "tags": []
   },
   "outputs": [
    {
     "name": "stdout",
     "output_type": "stream",
     "text": [
      "updated output [0.0575 0.9425]\n"
     ]
    }
   ],
   "source": [
    "hidden_1 = sigmoid(np.dot(x,w1)+b1)\n",
    "updated_out = softmax(np.dot(hidden_1, w2)+b2)\n",
    "print(\"updated output\", np.round(updated_out,4))"
   ]
  },
  {
   "cell_type": "code",
   "execution_count": 29,
   "id": "f60976e0-590d-4682-924b-eb3226d07715",
   "metadata": {
    "execution": {
     "iopub.execute_input": "2023-04-18T13:34:56.715775Z",
     "iopub.status.busy": "2023-04-18T13:34:56.707835Z",
     "iopub.status.idle": "2023-04-18T13:34:56.726901Z",
     "shell.execute_reply": "2023-04-18T13:34:56.725821Z",
     "shell.execute_reply.started": "2023-04-18T13:34:56.715775Z"
    }
   },
   "outputs": [
    {
     "data": {
      "text/plain": [
       "0.8883528604776105"
      ]
     },
     "execution_count": 29,
     "metadata": {},
     "output_type": "execute_result"
    }
   ],
   "source": [
    "sumofsquares(updated_out,t)"
   ]
  },
  {
   "cell_type": "code",
   "execution_count": null,
   "id": "fe645ed5-b19b-4209-8ce4-189174099d0a",
   "metadata": {},
   "outputs": [],
   "source": []
  }
 ],
 "metadata": {
  "kernelspec": {
   "display_name": "Python 3 (ipykernel)",
   "language": "python",
   "name": "python3"
  },
  "language_info": {
   "codemirror_mode": {
    "name": "ipython",
    "version": 3
   },
   "file_extension": ".py",
   "mimetype": "text/x-python",
   "name": "python",
   "nbconvert_exporter": "python",
   "pygments_lexer": "ipython3",
   "version": "3.8.8"
  },
  "widgets": {
   "application/vnd.jupyter.widget-state+json": {
    "state": {},
    "version_major": 2,
    "version_minor": 0
   }
  }
 },
 "nbformat": 4,
 "nbformat_minor": 5
}
